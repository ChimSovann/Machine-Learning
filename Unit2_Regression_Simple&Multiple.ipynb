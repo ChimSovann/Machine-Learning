{
  "cells": [
    {
      "cell_type": "markdown",
      "metadata": {
        "id": "view-in-github",
        "colab_type": "text"
      },
      "source": [
        "<a href=\"https://colab.research.google.com/github/ChimSovann/Machine-Learning/blob/main/Unit2_Regression_Simple%26Multiple.ipynb\" target=\"_parent\"><img src=\"https://colab.research.google.com/assets/colab-badge.svg\" alt=\"Open In Colab\"/></a>"
      ]
    },
    {
      "cell_type": "code",
      "execution_count": 1,
      "metadata": {
        "id": "53VSE-xBUylp"
      },
      "outputs": [],
      "source": [
        "#lib\n",
        "import sklearn\n",
        "import numpy as np \n",
        "import pandas as pd \n",
        "import matplotlib.pyplot as plt #graph\n",
        "from sklearn import datasets\n",
        "from sklearn.model_selection import train_test_split\n",
        "from sklearn.linear_model import LinearRegression\n",
        "import sklearn.metrics as metrics"
      ]
    },
    {
      "cell_type": "code",
      "execution_count": 2,
      "metadata": {
        "colab": {
          "base_uri": "https://localhost:8080/",
          "height": 74,
          "resources": {
            "http://localhost:8080/nbextensions/google.colab/files.js": {
              "data": "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",
              "headers": [
                [
                  "content-type",
                  "application/javascript"
                ]
              ],
              "ok": true,
              "status": 200,
              "status_text": ""
            }
          }
        },
        "id": "YIsW37YDV5ak",
        "outputId": "4786aeda-d169-4fb5-9cd9-87ce3c37d054"
      },
      "outputs": [
        {
          "output_type": "display_data",
          "data": {
            "text/plain": [
              "<IPython.core.display.HTML object>"
            ],
            "text/html": [
              "\n",
              "     <input type=\"file\" id=\"files-d735a097-de4b-4490-ba69-b6bdeaa613e9\" name=\"files[]\" multiple disabled\n",
              "        style=\"border:none\" />\n",
              "     <output id=\"result-d735a097-de4b-4490-ba69-b6bdeaa613e9\">\n",
              "      Upload widget is only available when the cell has been executed in the\n",
              "      current browser session. Please rerun this cell to enable.\n",
              "      </output>\n",
              "      <script src=\"/nbextensions/google.colab/files.js\"></script> "
            ]
          },
          "metadata": {}
        },
        {
          "output_type": "stream",
          "name": "stdout",
          "text": [
            "Saving MY2022 Fuel Consumption Ratings.csv to MY2022 Fuel Consumption Ratings.csv\n"
          ]
        }
      ],
      "source": [
        "#dataset\n",
        "from google.colab import files\n",
        "upload = files.upload()"
      ]
    },
    {
      "cell_type": "code",
      "execution_count": 3,
      "metadata": {
        "colab": {
          "base_uri": "https://localhost:8080/",
          "height": 458
        },
        "id": "rt-IRDVsY9xr",
        "outputId": "76c08225-15af-4579-bc6a-3c15ebb818c3"
      },
      "outputs": [
        {
          "output_type": "execute_result",
          "data": {
            "text/plain": [
              "   Model Year   Make              Model Vehicle Class  Engine Size(L)  \\\n",
              "0        2022  Acura                ILX       Compact             2.4   \n",
              "1        2022  Acura         MDX SH-AWD    SUV: Small             3.5   \n",
              "2        2022  Acura         RDX SH-AWD    SUV: Small             2.0   \n",
              "3        2022  Acura  RDX SH-AWD A-SPEC    SUV: Small             2.0   \n",
              "4        2022  Acura         TLX SH-AWD       Compact             2.0   \n",
              "\n",
              "   Cylinders Transmission Fuel Type  Fuel Consumption (City (L/100 km)  \\\n",
              "0          4          AM8         Z                                9.9   \n",
              "1          6         AS10         Z                               12.6   \n",
              "2          4         AS10         Z                               11.0   \n",
              "3          4         AS10         Z                               11.3   \n",
              "4          4         AS10         Z                               11.2   \n",
              "\n",
              "   Fuel Consumption(Hwy (L/100 km))  Fuel Consumption(Comb (L/100 km))  \\\n",
              "0                               7.0                                8.6   \n",
              "1                               9.4                               11.2   \n",
              "2                               8.6                                9.9   \n",
              "3                               9.1                               10.3   \n",
              "4                               8.0                                9.8   \n",
              "\n",
              "   Fuel Consumption(Comb (mpg))  CO2 Emissions(g/km)  CO2 Rating  Smog Rating  \n",
              "0                            33                  200           6            3  \n",
              "1                            25                  263           4            5  \n",
              "2                            29                  232           5            6  \n",
              "3                            27                  242           5            6  \n",
              "4                            29                  230           5            7  "
            ],
            "text/html": [
              "\n",
              "  <div id=\"df-5baafd08-f368-44cd-91cc-fe2e367ac542\">\n",
              "    <div class=\"colab-df-container\">\n",
              "      <div>\n",
              "<style scoped>\n",
              "    .dataframe tbody tr th:only-of-type {\n",
              "        vertical-align: middle;\n",
              "    }\n",
              "\n",
              "    .dataframe tbody tr th {\n",
              "        vertical-align: top;\n",
              "    }\n",
              "\n",
              "    .dataframe thead th {\n",
              "        text-align: right;\n",
              "    }\n",
              "</style>\n",
              "<table border=\"1\" class=\"dataframe\">\n",
              "  <thead>\n",
              "    <tr style=\"text-align: right;\">\n",
              "      <th></th>\n",
              "      <th>Model Year</th>\n",
              "      <th>Make</th>\n",
              "      <th>Model</th>\n",
              "      <th>Vehicle Class</th>\n",
              "      <th>Engine Size(L)</th>\n",
              "      <th>Cylinders</th>\n",
              "      <th>Transmission</th>\n",
              "      <th>Fuel Type</th>\n",
              "      <th>Fuel Consumption (City (L/100 km)</th>\n",
              "      <th>Fuel Consumption(Hwy (L/100 km))</th>\n",
              "      <th>Fuel Consumption(Comb (L/100 km))</th>\n",
              "      <th>Fuel Consumption(Comb (mpg))</th>\n",
              "      <th>CO2 Emissions(g/km)</th>\n",
              "      <th>CO2 Rating</th>\n",
              "      <th>Smog Rating</th>\n",
              "    </tr>\n",
              "  </thead>\n",
              "  <tbody>\n",
              "    <tr>\n",
              "      <th>0</th>\n",
              "      <td>2022</td>\n",
              "      <td>Acura</td>\n",
              "      <td>ILX</td>\n",
              "      <td>Compact</td>\n",
              "      <td>2.4</td>\n",
              "      <td>4</td>\n",
              "      <td>AM8</td>\n",
              "      <td>Z</td>\n",
              "      <td>9.9</td>\n",
              "      <td>7.0</td>\n",
              "      <td>8.6</td>\n",
              "      <td>33</td>\n",
              "      <td>200</td>\n",
              "      <td>6</td>\n",
              "      <td>3</td>\n",
              "    </tr>\n",
              "    <tr>\n",
              "      <th>1</th>\n",
              "      <td>2022</td>\n",
              "      <td>Acura</td>\n",
              "      <td>MDX SH-AWD</td>\n",
              "      <td>SUV: Small</td>\n",
              "      <td>3.5</td>\n",
              "      <td>6</td>\n",
              "      <td>AS10</td>\n",
              "      <td>Z</td>\n",
              "      <td>12.6</td>\n",
              "      <td>9.4</td>\n",
              "      <td>11.2</td>\n",
              "      <td>25</td>\n",
              "      <td>263</td>\n",
              "      <td>4</td>\n",
              "      <td>5</td>\n",
              "    </tr>\n",
              "    <tr>\n",
              "      <th>2</th>\n",
              "      <td>2022</td>\n",
              "      <td>Acura</td>\n",
              "      <td>RDX SH-AWD</td>\n",
              "      <td>SUV: Small</td>\n",
              "      <td>2.0</td>\n",
              "      <td>4</td>\n",
              "      <td>AS10</td>\n",
              "      <td>Z</td>\n",
              "      <td>11.0</td>\n",
              "      <td>8.6</td>\n",
              "      <td>9.9</td>\n",
              "      <td>29</td>\n",
              "      <td>232</td>\n",
              "      <td>5</td>\n",
              "      <td>6</td>\n",
              "    </tr>\n",
              "    <tr>\n",
              "      <th>3</th>\n",
              "      <td>2022</td>\n",
              "      <td>Acura</td>\n",
              "      <td>RDX SH-AWD A-SPEC</td>\n",
              "      <td>SUV: Small</td>\n",
              "      <td>2.0</td>\n",
              "      <td>4</td>\n",
              "      <td>AS10</td>\n",
              "      <td>Z</td>\n",
              "      <td>11.3</td>\n",
              "      <td>9.1</td>\n",
              "      <td>10.3</td>\n",
              "      <td>27</td>\n",
              "      <td>242</td>\n",
              "      <td>5</td>\n",
              "      <td>6</td>\n",
              "    </tr>\n",
              "    <tr>\n",
              "      <th>4</th>\n",
              "      <td>2022</td>\n",
              "      <td>Acura</td>\n",
              "      <td>TLX SH-AWD</td>\n",
              "      <td>Compact</td>\n",
              "      <td>2.0</td>\n",
              "      <td>4</td>\n",
              "      <td>AS10</td>\n",
              "      <td>Z</td>\n",
              "      <td>11.2</td>\n",
              "      <td>8.0</td>\n",
              "      <td>9.8</td>\n",
              "      <td>29</td>\n",
              "      <td>230</td>\n",
              "      <td>5</td>\n",
              "      <td>7</td>\n",
              "    </tr>\n",
              "  </tbody>\n",
              "</table>\n",
              "</div>\n",
              "      <button class=\"colab-df-convert\" onclick=\"convertToInteractive('df-5baafd08-f368-44cd-91cc-fe2e367ac542')\"\n",
              "              title=\"Convert this dataframe to an interactive table.\"\n",
              "              style=\"display:none;\">\n",
              "        \n",
              "  <svg xmlns=\"http://www.w3.org/2000/svg\" height=\"24px\"viewBox=\"0 0 24 24\"\n",
              "       width=\"24px\">\n",
              "    <path d=\"M0 0h24v24H0V0z\" fill=\"none\"/>\n",
              "    <path d=\"M18.56 5.44l.94 2.06.94-2.06 2.06-.94-2.06-.94-.94-2.06-.94 2.06-2.06.94zm-11 1L8.5 8.5l.94-2.06 2.06-.94-2.06-.94L8.5 2.5l-.94 2.06-2.06.94zm10 10l.94 2.06.94-2.06 2.06-.94-2.06-.94-.94-2.06-.94 2.06-2.06.94z\"/><path d=\"M17.41 7.96l-1.37-1.37c-.4-.4-.92-.59-1.43-.59-.52 0-1.04.2-1.43.59L10.3 9.45l-7.72 7.72c-.78.78-.78 2.05 0 2.83L4 21.41c.39.39.9.59 1.41.59.51 0 1.02-.2 1.41-.59l7.78-7.78 2.81-2.81c.8-.78.8-2.07 0-2.86zM5.41 20L4 18.59l7.72-7.72 1.47 1.35L5.41 20z\"/>\n",
              "  </svg>\n",
              "      </button>\n",
              "      \n",
              "  <style>\n",
              "    .colab-df-container {\n",
              "      display:flex;\n",
              "      flex-wrap:wrap;\n",
              "      gap: 12px;\n",
              "    }\n",
              "\n",
              "    .colab-df-convert {\n",
              "      background-color: #E8F0FE;\n",
              "      border: none;\n",
              "      border-radius: 50%;\n",
              "      cursor: pointer;\n",
              "      display: none;\n",
              "      fill: #1967D2;\n",
              "      height: 32px;\n",
              "      padding: 0 0 0 0;\n",
              "      width: 32px;\n",
              "    }\n",
              "\n",
              "    .colab-df-convert:hover {\n",
              "      background-color: #E2EBFA;\n",
              "      box-shadow: 0px 1px 2px rgba(60, 64, 67, 0.3), 0px 1px 3px 1px rgba(60, 64, 67, 0.15);\n",
              "      fill: #174EA6;\n",
              "    }\n",
              "\n",
              "    [theme=dark] .colab-df-convert {\n",
              "      background-color: #3B4455;\n",
              "      fill: #D2E3FC;\n",
              "    }\n",
              "\n",
              "    [theme=dark] .colab-df-convert:hover {\n",
              "      background-color: #434B5C;\n",
              "      box-shadow: 0px 1px 3px 1px rgba(0, 0, 0, 0.15);\n",
              "      filter: drop-shadow(0px 1px 2px rgba(0, 0, 0, 0.3));\n",
              "      fill: #FFFFFF;\n",
              "    }\n",
              "  </style>\n",
              "\n",
              "      <script>\n",
              "        const buttonEl =\n",
              "          document.querySelector('#df-5baafd08-f368-44cd-91cc-fe2e367ac542 button.colab-df-convert');\n",
              "        buttonEl.style.display =\n",
              "          google.colab.kernel.accessAllowed ? 'block' : 'none';\n",
              "\n",
              "        async function convertToInteractive(key) {\n",
              "          const element = document.querySelector('#df-5baafd08-f368-44cd-91cc-fe2e367ac542');\n",
              "          const dataTable =\n",
              "            await google.colab.kernel.invokeFunction('convertToInteractive',\n",
              "                                                     [key], {});\n",
              "          if (!dataTable) return;\n",
              "\n",
              "          const docLinkHtml = 'Like what you see? Visit the ' +\n",
              "            '<a target=\"_blank\" href=https://colab.research.google.com/notebooks/data_table.ipynb>data table notebook</a>'\n",
              "            + ' to learn more about interactive tables.';\n",
              "          element.innerHTML = '';\n",
              "          dataTable['output_type'] = 'display_data';\n",
              "          await google.colab.output.renderOutput(dataTable, element);\n",
              "          const docLink = document.createElement('div');\n",
              "          docLink.innerHTML = docLinkHtml;\n",
              "          element.appendChild(docLink);\n",
              "        }\n",
              "      </script>\n",
              "    </div>\n",
              "  </div>\n",
              "  "
            ]
          },
          "metadata": {},
          "execution_count": 3
        }
      ],
      "source": [
        "dataset = pd.read_csv('MY2022 Fuel Consumption Ratings.csv')\n",
        "dataset.head(5)"
      ]
    },
    {
      "cell_type": "code",
      "execution_count": 4,
      "metadata": {
        "id": "wgv1rWIYX8xB"
      },
      "outputs": [],
      "source": [
        "#linear - dataset is clean and tidy (****)"
      ]
    },
    {
      "cell_type": "code",
      "execution_count": 5,
      "metadata": {
        "colab": {
          "base_uri": "https://localhost:8080/"
        },
        "id": "C13wYG-kY1j9",
        "outputId": "9121ed7f-a0ff-4557-8b5b-56bcf181417c"
      },
      "outputs": [
        {
          "output_type": "stream",
          "name": "stdout",
          "text": [
            "(946, 1)\n",
            "(946, 1)\n",
            "(946, 1)\n",
            "(946, 1)\n"
          ]
        }
      ],
      "source": [
        "#select the variables(x,y)\n",
        "\n",
        "x_variable = ['Fuel Consumption(Hwy (L/100 km))']\n",
        "y_variable = ['CO2 Emissions(g/km)']\n",
        "\n",
        "#reshape variable\n",
        "x = dataset[x_variable].values.reshape(-1,1) #1st value -1, next value is the length of x_variable\n",
        "y = dataset[y_variable].values.reshape(-1,1) #1st value -1, next value is the length of y_variable\n",
        "print(x.shape)\n",
        "print(y.shape)\n",
        "#(or)\n",
        "z = np.array(dataset[x_variable]).reshape(-1,1)\n",
        "w = np.array(dataset[y_variable]).reshape(-1,1)\n",
        "print(z.shape)\n",
        "print(w.shape)\n",
        "\n"
      ]
    },
    {
      "cell_type": "code",
      "execution_count": 6,
      "metadata": {
        "id": "fFa5CbTHct23"
      },
      "outputs": [],
      "source": [
        "#split the dataset\n",
        "x_train, x_test, y_train, y_test = train_test_split(x,y, test_size = 0.2)\n"
      ]
    },
    {
      "cell_type": "code",
      "execution_count": 7,
      "metadata": {
        "id": "u_wD7muSdfFM"
      },
      "outputs": [],
      "source": [
        "#build a model(simpleLinear)\n",
        "Lin_reg = LinearRegression()"
      ]
    },
    {
      "cell_type": "code",
      "execution_count": 8,
      "metadata": {
        "id": "msGqFNhqeEqp"
      },
      "outputs": [],
      "source": [
        "#training\n",
        "model =  Lin_reg.fit(x_train, y_train)\n",
        "\n",
        "# y_hat = Q_0 + Q_1 *x"
      ]
    },
    {
      "cell_type": "code",
      "execution_count": 9,
      "metadata": {
        "colab": {
          "base_uri": "https://localhost:8080/"
        },
        "id": "MhvVZ-T8fhg2",
        "outputId": "edf63526-e67b-4bff-80c9-de1b02afcd00"
      },
      "outputs": [
        {
          "output_type": "stream",
          "name": "stdout",
          "text": [
            "[9.92509731]\n",
            "[[26.64504862]]\n"
          ]
        }
      ],
      "source": [
        "Q_0 = model.intercept_\n",
        "print(Q_0)\n",
        "Q_1 = model.coef_\n",
        "print(Q_1)\n"
      ]
    },
    {
      "cell_type": "code",
      "execution_count": 10,
      "metadata": {
        "colab": {
          "base_uri": "https://localhost:8080/"
        },
        "id": "p-QPNXyAkR9y",
        "outputId": "5eda87de-c88b-40bb-c94a-5bb7f1ce9463"
      },
      "outputs": [
        {
          "output_type": "stream",
          "name": "stdout",
          "text": [
            "[[327.00117587]\n",
            " [276.37558349]\n",
            " [193.77593278]\n",
            " [327.00117587]\n",
            " [268.38206891]\n",
            " [212.42746681]\n",
            " [255.0595446 ]\n",
            " [217.75647653]\n",
            " [212.42746681]\n",
            " [284.36909808]\n",
            " [231.07900084]\n",
            " [361.63973907]\n",
            " [231.07900084]\n",
            " [209.76296195]\n",
            " [350.98171963]\n",
            " [340.32370018]\n",
            " [209.76296195]\n",
            " [532.16805023]\n",
            " [247.06603001]\n",
            " [311.0141467 ]\n",
            " [263.05305919]\n",
            " [295.02711753]\n",
            " [143.1503404 ]\n",
            " [201.76944736]\n",
            " [273.71107863]\n",
            " [252.39503974]\n",
            " [313.67865156]\n",
            " [225.74999112]\n",
            " [337.65919532]\n",
            " [239.07251543]\n",
            " [268.38206891]\n",
            " [247.06603001]\n",
            " [185.78241819]\n",
            " [287.03360294]\n",
            " [135.15682582]\n",
            " [265.71756405]\n",
            " [265.71756405]\n",
            " [196.44043764]\n",
            " [220.4209814 ]\n",
            " [265.71756405]\n",
            " [239.07251543]\n",
            " [207.09845709]\n",
            " [215.09197167]\n",
            " [255.0595446 ]\n",
            " [334.99469046]\n",
            " [185.78241819]\n",
            " [281.70459322]\n",
            " [249.73053488]\n",
            " [281.70459322]\n",
            " [247.06603001]\n",
            " [209.76296195]\n",
            " [233.74350571]\n",
            " [247.06603001]\n",
            " [241.73702029]\n",
            " [249.73053488]\n",
            " [303.02063211]\n",
            " [196.44043764]\n",
            " [358.97523421]\n",
            " [169.79538902]\n",
            " [385.62028283]\n",
            " [217.75647653]\n",
            " [308.34964184]\n",
            " [220.4209814 ]\n",
            " [196.44043764]\n",
            " [289.6981078 ]\n",
            " [252.39503974]\n",
            " [273.71107863]\n",
            " [236.40801057]\n",
            " [271.04657377]\n",
            " [279.04008836]\n",
            " [196.44043764]\n",
            " [223.08548626]\n",
            " [233.74350571]\n",
            " [300.35612725]\n",
            " [244.40152515]\n",
            " [324.33667101]\n",
            " [281.70459322]\n",
            " [358.97523421]\n",
            " [271.04657377]\n",
            " [175.12439875]\n",
            " [249.73053488]\n",
            " [225.74999112]\n",
            " [204.43395223]\n",
            " [217.75647653]\n",
            " [215.09197167]\n",
            " [279.04008836]\n",
            " [209.76296195]\n",
            " [353.64622449]\n",
            " [303.02063211]\n",
            " [247.06603001]\n",
            " [271.04657377]\n",
            " [140.48583554]\n",
            " [337.65919532]\n",
            " [209.76296195]\n",
            " [271.04657377]\n",
            " [180.45340847]\n",
            " [228.41449598]\n",
            " [249.73053488]\n",
            " [233.74350571]\n",
            " [281.70459322]\n",
            " [241.73702029]\n",
            " [223.08548626]\n",
            " [233.74350571]\n",
            " [223.08548626]\n",
            " [340.32370018]\n",
            " [327.00117587]\n",
            " [289.6981078 ]\n",
            " [260.38855432]\n",
            " [332.33018559]\n",
            " [228.41449598]\n",
            " [265.71756405]\n",
            " [196.44043764]\n",
            " [220.4209814 ]\n",
            " [231.07900084]\n",
            " [193.77593278]\n",
            " [241.73702029]\n",
            " [377.62676824]\n",
            " [167.13088416]\n",
            " [265.71756405]\n",
            " [340.32370018]\n",
            " [175.12439875]\n",
            " [212.42746681]\n",
            " [196.44043764]\n",
            " [233.74350571]\n",
            " [209.76296195]\n",
            " [175.12439875]\n",
            " [199.1049425 ]\n",
            " [287.03360294]\n",
            " [303.02063211]\n",
            " [201.76944736]\n",
            " [204.43395223]\n",
            " [382.95577797]\n",
            " [295.02711753]\n",
            " [398.94280714]\n",
            " [327.00117587]\n",
            " [241.73702029]\n",
            " [196.44043764]\n",
            " [340.32370018]\n",
            " [207.09845709]\n",
            " [268.38206891]\n",
            " [271.04657377]\n",
            " [217.75647653]\n",
            " [231.07900084]\n",
            " [252.39503974]\n",
            " [231.07900084]\n",
            " [215.09197167]\n",
            " [207.09845709]\n",
            " [279.04008836]\n",
            " [215.09197167]\n",
            " [268.38206891]\n",
            " [217.75647653]\n",
            " [207.09845709]\n",
            " [249.73053488]\n",
            " [212.42746681]\n",
            " [225.74999112]\n",
            " [185.78241819]\n",
            " [532.16805023]\n",
            " [199.1049425 ]\n",
            " [209.76296195]\n",
            " [225.74999112]\n",
            " [220.4209814 ]\n",
            " [260.38855432]\n",
            " [348.31721476]\n",
            " [177.78890361]\n",
            " [329.66568073]\n",
            " [271.04657377]\n",
            " [268.38206891]\n",
            " [252.39503974]\n",
            " [287.03360294]\n",
            " [257.72404946]\n",
            " [337.65919532]\n",
            " [177.78890361]\n",
            " [273.71107863]\n",
            " [324.33667101]\n",
            " [167.13088416]\n",
            " [244.40152515]\n",
            " [276.37558349]\n",
            " [273.71107863]\n",
            " [204.43395223]\n",
            " [566.80661343]\n",
            " [273.71107863]\n",
            " [348.31721476]\n",
            " [231.07900084]\n",
            " [220.4209814 ]\n",
            " [279.04008836]\n",
            " [295.02711753]\n",
            " [209.76296195]\n",
            " [308.34964184]\n",
            " [180.45340847]\n",
            " [247.06603001]]\n"
          ]
        }
      ],
      "source": [
        "#result [rediction\n",
        "#predict the result using whole dataset \n",
        "y_predict = model.predict(x_test)\n",
        "print(y_predict)"
      ]
    },
    {
      "cell_type": "code",
      "execution_count": 11,
      "metadata": {
        "colab": {
          "base_uri": "https://localhost:8080/"
        },
        "id": "-vBwj-pXkYw0",
        "outputId": "ce49c3b5-6e64-49ca-98a8-b3808227a5b8"
      },
      "outputs": [
        {
          "output_type": "stream",
          "name": "stdout",
          "text": [
            "[[409.60082659]]\n"
          ]
        }
      ],
      "source": [
        "#predict the single value\n",
        "x_assum = np.array([15])\n",
        "x_assum = x_assum.reshape(-1,1)\n",
        "\n",
        "y_predict = model.predict(x_assum)\n",
        "print(y_predict)"
      ]
    },
    {
      "cell_type": "code",
      "execution_count": null,
      "metadata": {
        "id": "rM8QHYn_lxVt"
      },
      "outputs": [],
      "source": [
        "#graph\n",
        "plt.scatter(x_test, y_test, color = \"Blue\")\n",
        "plt.plot(x_test, y_predict, color = \"Red\")\n",
        "plt.show()"
      ]
    },
    {
      "cell_type": "code",
      "execution_count": 13,
      "metadata": {
        "colab": {
          "base_uri": "https://localhost:8080/"
        },
        "id": "HPCnJBDks5rY",
        "outputId": "e1fab429-a6b1-477d-f09f-d46ab4751a3a"
      },
      "outputs": [
        {
          "output_type": "stream",
          "name": "stdout",
          "text": [
            "(946, 3)\n",
            "(946, 1)\n"
          ]
        }
      ],
      "source": [
        "#Multiple Linear regression\n",
        "#select the variables (x-FUELCONSUMPTION_HWY , y - CO2EMISSIONS)\n",
        "\n",
        "x_variable1 = ['Engine Size(L)','Cylinders','Fuel Consumption(Hwy (L/100 km))' ] #input, Multiple input\n",
        "y_variable1 = ['Fuel Consumption(Comb (L/100 km))'] #output\n",
        "\n",
        "len(x_variable)\n",
        "#reshape variable\n",
        "x1 = dataset[x_variable1].values.reshape(-1,3) # 1st value is -1, next value is the length of x_variable\n",
        "y1 = dataset[y_variable1].values.reshape(-1,1)\n",
        "print(x1.shape)\n",
        "print(y1.shape)\n",
        "#(or)"
      ]
    },
    {
      "cell_type": "code",
      "execution_count": 14,
      "metadata": {
        "colab": {
          "base_uri": "https://localhost:8080/"
        },
        "id": "GZHHlj_zXUO_",
        "outputId": "d581ad55-28c2-4cd9-f799-a68f3ddcf934"
      },
      "outputs": [
        {
          "output_type": "stream",
          "name": "stdout",
          "text": [
            "(756, 3)\n",
            "(190, 3)\n"
          ]
        }
      ],
      "source": [
        "x_train1, x_test1, y_train1, y_test1 =  train_test_split(x1, y1, test_size = 0.2) # 80% for train, 20% for testing\n",
        "print(x_train1.shape)\n",
        "print(x_test1.shape)"
      ]
    },
    {
      "cell_type": "code",
      "execution_count": 15,
      "metadata": {
        "id": "OjN4Vd3xXVwm"
      },
      "outputs": [],
      "source": [
        "#build a model(multipleLinear)\n",
        "Lin_reg1 = LinearRegression()"
      ]
    },
    {
      "cell_type": "code",
      "execution_count": 16,
      "metadata": {
        "id": "TL401F9VXYil"
      },
      "outputs": [],
      "source": [
        "#training\n",
        "model1 = Lin_reg.fit(x_train1, y_train1)\n",
        "\n",
        "# y_hat = Q_0(intercept) + Q_1(slope) * FUELCONSUMPTION_HWY'+ Q_2*'ENGINESIZE'+ "
      ]
    },
    {
      "cell_type": "code",
      "execution_count": 17,
      "metadata": {
        "colab": {
          "base_uri": "https://localhost:8080/"
        },
        "id": "n2udy_sBXZ3q",
        "outputId": "be9a9064-c4d4-4050-d251-5a87763f7e5b"
      },
      "outputs": [
        {
          "output_type": "stream",
          "name": "stdout",
          "text": [
            "[-0.18838622]\n",
            "[[0.0984475  0.30125941 0.98817932]]\n"
          ]
        }
      ],
      "source": [
        "#finding intercept & slope(Coefficient)\n",
        "Q_0 = model.intercept_\n",
        "print(Q_0)\n",
        "Q_1 = model.coef_\n",
        "print(Q_1)\n",
        "#just for understanding"
      ]
    },
    {
      "cell_type": "code",
      "execution_count": 18,
      "metadata": {
        "colab": {
          "base_uri": "https://localhost:8080/"
        },
        "id": "VIfNJRj_XcUm",
        "outputId": "5066c191-f239-49bb-93fe-073a87c5f522"
      },
      "outputs": [
        {
          "output_type": "stream",
          "name": "stdout",
          "text": [
            "[[10.57074134]\n",
            " [12.39808392]\n",
            " [ 9.81994732]\n",
            " [11.99394183]\n",
            " [15.16498602]\n",
            " [15.00770354]\n",
            " [13.55399442]\n",
            " [ 7.49851508]\n",
            " [ 7.08859299]\n",
            " [ 8.52607341]\n",
            " [ 9.02016307]\n",
            " [11.26246687]\n",
            " [11.55892067]\n",
            " [10.27428755]\n",
            " [ 7.14262235]\n",
            " [ 7.04380442]\n",
            " [ 9.45481379]\n",
            " [14.77008473]\n",
            " [ 7.43907615]\n",
            " [12.39808392]\n",
            " [12.05301033]\n",
            " [ 9.118981  ]\n",
            " [ 8.03198374]\n",
            " [15.87603061]\n",
            " [ 6.98977506]\n",
            " [ 7.73552995]\n",
            " [ 7.68593576]\n",
            " [12.05301033]\n",
            " [ 7.34025822]\n",
            " [10.50243205]\n",
            " [ 7.24144029]\n",
            " [11.00576251]\n",
            " [11.51954167]\n",
            " [14.19612576]\n",
            " [14.89806647]\n",
            " [ 9.44496905]\n",
            " [ 9.21779893]\n",
            " [11.8951239 ]\n",
            " [13.52483061]\n",
            " [12.31858505]\n",
            " [ 9.06938682]\n",
            " [11.20339837]\n",
            " [ 7.98238956]\n",
            " [ 6.20366678]\n",
            " [ 8.8225272 ]\n",
            " [ 8.62489134]\n",
            " [ 9.21779893]\n",
            " [ 8.13080168]\n",
            " [11.50909296]\n",
            " [ 9.02016307]\n",
            " [15.29310468]\n",
            " [11.57861016]\n",
            " [14.50279474]\n",
            " [14.82915322]\n",
            " [ 7.53789408]\n",
            " [10.35401993]\n",
            " [14.22760879]\n",
            " [12.14137955]\n",
            " [10.13669457]\n",
            " [16.54880751]\n",
            " [11.75716049]\n",
            " [ 8.37322611]\n",
            " [14.09730783]\n",
            " [ 9.81994732]\n",
            " [10.80812664]\n",
            " [14.34453788]\n",
            " [10.65047373]\n",
            " [10.66955928]\n",
            " [ 8.47684966]\n",
            " [15.2933382 ]\n",
            " [11.10458044]\n",
            " [15.39215613]\n",
            " [10.60124998]\n",
            " [12.62622842]\n",
            " [ 8.09142268]\n",
            " [13.14061154]\n",
            " [ 8.72370927]\n",
            " [ 8.72370927]\n",
            " [ 9.06938682]\n",
            " [14.9968844 ]\n",
            " [12.29926598]\n",
            " [ 8.72370927]\n",
            " [12.25064619]\n",
            " [11.75716049]\n",
            " [14.40397681]\n",
            " [11.69748803]\n",
            " [ 8.32843754]\n",
            " [14.98666922]\n",
            " [15.83581414]\n",
            " [12.58684942]\n",
            " [11.5986701 ]\n",
            " [16.19351873]\n",
            " [10.50243205]\n",
            " [ 9.02016307]\n",
            " [10.24535725]\n",
            " [10.35401993]\n",
            " [14.0783592 ]\n",
            " [10.51167285]\n",
            " [ 7.32056872]\n",
            " [ 8.13080168]\n",
            " [ 7.73552995]\n",
            " [ 8.13080168]\n",
            " [ 8.18002543]\n",
            " [14.01892027]\n",
            " [ 8.72370927]\n",
            " [14.61243182]\n",
            " [ 9.81994732]\n",
            " [16.04329475]\n",
            " [ 8.47647922]\n",
            " [12.33961937]\n",
            " [13.28744531]\n",
            " [11.20339837]\n",
            " [13.47621081]\n",
            " [ 9.02016307]\n",
            " [ 9.45481379]\n",
            " [15.38194095]\n",
            " [11.00576251]\n",
            " [10.21521905]\n",
            " [10.35401993]\n",
            " [11.07504619]\n",
            " [ 8.48669441]\n",
            " [ 8.77330345]\n",
            " [11.61896355]\n",
            " [16.86420993]\n",
            " [11.84552971]\n",
            " [ 9.24733318]\n",
            " [15.38194095]\n",
            " [14.90754079]\n",
            " [10.80812664]\n",
            " [11.43056848]\n",
            " [ 9.77035314]\n",
            " [ 9.68137995]\n",
            " [10.11640112]\n",
            " [13.64394199]\n",
            " [11.99394183]\n",
            " [12.11305322]\n",
            " [ 6.98977506]\n",
            " [ 8.72370927]\n",
            " [ 9.21779893]\n",
            " [12.58684942]\n",
            " [ 7.28622886]\n",
            " [12.37936881]\n",
            " [ 7.89378681]\n",
            " [15.38194095]\n",
            " [12.05301033]\n",
            " [12.43843731]\n",
            " [ 7.53789408]\n",
            " [11.5986701 ]\n",
            " [ 9.97783375]\n",
            " [10.90694457]\n",
            " [ 7.48386472]\n",
            " [ 6.70797163]\n",
            " [ 9.91876525]\n",
            " [ 8.27884336]\n",
            " [ 8.46663447]\n",
            " [11.064831  ]\n",
            " [ 9.4154348 ]\n",
            " [10.61049078]\n",
            " [12.63607317]\n",
            " [ 7.63671202]\n",
            " [14.40397681]\n",
            " [ 8.62489134]\n",
            " [12.88330322]\n",
            " [11.89475346]\n",
            " [15.29310468]\n",
            " [13.64431243]\n",
            " [16.58879046]\n",
            " [16.63620234]\n",
            " [ 8.76308827]\n",
            " [13.68308747]\n",
            " [ 7.73552995]\n",
            " [ 9.81070653]\n",
            " [11.99394183]\n",
            " [10.93647882]\n",
            " [ 9.4154348 ]\n",
            " [11.8951239 ]\n",
            " [11.75655653]\n",
            " [10.31403698]\n",
            " [12.29926598]\n",
            " [ 8.8225272 ]\n",
            " [12.14137955]\n",
            " [14.95810936]\n",
            " [12.48803149]\n",
            " [ 9.17744554]\n",
            " [ 9.81994732]\n",
            " [12.24080144]\n",
            " [ 9.91876525]\n",
            " [10.90694457]\n",
            " [ 9.21779893]\n",
            " [ 7.58711783]]\n"
          ]
        }
      ],
      "source": [
        "y_predict1 = model1.predict(x_test1)\n",
        "print(y_predict1)"
      ]
    },
    {
      "cell_type": "code",
      "execution_count": null,
      "metadata": {
        "id": "kvC_RnmxgYtH"
      },
      "outputs": [],
      "source": [
        "#graph\n",
        "plt.scatter(x_test1, y_test1, color = \"Blue\")\n",
        "plt.plot(x_test1, y_predict1, color = \"Red\")\n",
        "plt.show()"
      ]
    },
    {
      "cell_type": "markdown",
      "metadata": {
        "id": "BJOB8PE0ss6y"
      },
      "source": [
        "Task: \n",
        "1. Simple Linear -MSE, Absolute error, R^2\n",
        "2. Repeat the same for Multiple IR\n",
        "3. Graph for Multiple"
      ]
    },
    {
      "cell_type": "code",
      "execution_count": 20,
      "metadata": {
        "colab": {
          "base_uri": "https://localhost:8080/"
        },
        "id": "tLDJXso4Zh42",
        "outputId": "60b8d14d-5e94-4c6b-dd90-99d5f02ebd24"
      },
      "outputs": [
        {
          "output_type": "stream",
          "name": "stdout",
          "text": [
            "Results of sklearn.metrics:\n",
            "MAE: 0.40253799178180716\n",
            "MSE: 0.2708959345254243\n",
            "RMSE: 0.5204766416712899\n",
            "R-Squared: 0.9597148491589794\n"
          ]
        }
      ],
      "source": [
        "#1. Simple Linear -MSE, Absolute error, R^2\n",
        "mae = metrics.mean_absolute_error(y_test1, y_predict1)\n",
        "mse = metrics.mean_squared_error(y_test1, y_predict1)\n",
        "rmse = np.sqrt(mse) #mse**(0.5)  \n",
        "r2 = metrics.r2_score(y_test1,y_predict1)\n",
        "\n",
        "print(\"Results of sklearn.metrics:\")\n",
        "print(\"MAE:\",mae)\n",
        "print(\"MSE:\", mse)\n",
        "print(\"RMSE:\", rmse)\n",
        "print(\"R-Squared:\", r2)\n"
      ]
    },
    {
      "cell_type": "code",
      "execution_count": null,
      "metadata": {
        "id": "35Yd09-CuWpp"
      },
      "outputs": [],
      "source": [
        "#regression \n",
        "#classification"
      ]
    },
    {
      "cell_type": "markdown",
      "metadata": {
        "id": "LyFb-2tfuc75"
      },
      "source": [
        "1. Classification\n",
        "2. Supervised learning\n",
        "3. Predict the class or category of our target variable\n",
        "4. Types : Binary Classification (0,1) - yes or no , Male=1, Female =0 \n",
        "5. Multi-class classification;\n",
        "Student name Age Year1 score Year2 Score\n"
      ]
    }
  ],
  "metadata": {
    "colab": {
      "collapsed_sections": [],
      "name": "Unit2_Regression_Simple&Multiple.ipynb",
      "provenance": [],
      "authorship_tag": "ABX9TyOcIfMnYy+topzctRnWjayF",
      "include_colab_link": true
    },
    "kernelspec": {
      "display_name": "Python 3",
      "name": "python3"
    },
    "language_info": {
      "name": "python"
    }
  },
  "nbformat": 4,
  "nbformat_minor": 0
}