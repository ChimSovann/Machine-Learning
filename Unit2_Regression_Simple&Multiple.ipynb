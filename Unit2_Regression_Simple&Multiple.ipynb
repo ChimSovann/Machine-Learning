{
  "nbformat": 4,
  "nbformat_minor": 0,
  "metadata": {
    "colab": {
      "name": "Unit2_Regression_Simple&Multiple.ipynb",
      "provenance": [],
      "authorship_tag": "ABX9TyPl3oYnBEEW7gSd0aIFpTL3",
      "include_colab_link": true
    },
    "kernelspec": {
      "name": "python3",
      "display_name": "Python 3"
    },
    "language_info": {
      "name": "python"
    }
  },
  "cells": [
    {
      "cell_type": "markdown",
      "metadata": {
        "id": "view-in-github",
        "colab_type": "text"
      },
      "source": [
        "<a href=\"https://colab.research.google.com/github/ChimSovann/MachineLearning-DataWrangling/blob/main/Unit2_Regression_Simple%26Multiple.ipynb\" target=\"_parent\"><img src=\"https://colab.research.google.com/assets/colab-badge.svg\" alt=\"Open In Colab\"/></a>"
      ]
    },
    {
      "cell_type": "code",
      "execution_count": 2,
      "metadata": {
        "id": "53VSE-xBUylp"
      },
      "outputs": [],
      "source": [
        "#lib\n",
        "import sklearn\n",
        "import numpy as np \n",
        "import pandas as pd \n",
        "import matplotlib.pyplot as plt #graph\n",
        "from sklearn import datasets\n",
        "from sklearn.model_selection import train_test_split\n",
        "from sklearn.linear_model import LinearRegression"
      ]
    },
    {
      "cell_type": "code",
      "source": [
        "#dataset\n",
        "from google.colab import files\n",
        "upload = files.upload()"
      ],
      "metadata": {
        "colab": {
          "resources": {
            "http://localhost:8080/nbextensions/google.colab/files.js": {
              "data": "Ly8gQ29weXJpZ2h0IDIwMTcgR29vZ2xlIExMQwovLwovLyBMaWNlbnNlZCB1bmRlciB0aGUgQXBhY2hlIExpY2Vuc2UsIFZlcnNpb24gMi4wICh0aGUgIkxpY2Vuc2UiKTsKLy8geW91IG1heSBub3QgdXNlIHRoaXMgZmlsZSBleGNlcHQgaW4gY29tcGxpYW5jZSB3aXRoIHRoZSBMaWNlbnNlLgovLyBZb3UgbWF5IG9idGFpbiBhIGNvcHkgb2YgdGhlIExpY2Vuc2UgYXQKLy8KLy8gICAgICBodHRwOi8vd3d3LmFwYWNoZS5vcmcvbGljZW5zZXMvTElDRU5TRS0yLjAKLy8KLy8gVW5sZXNzIHJlcXVpcmVkIGJ5IGFwcGxpY2FibGUgbGF3IG9yIGFncmVlZCB0byBpbiB3cml0aW5nLCBzb2Z0d2FyZQovLyBkaXN0cmlidXRlZCB1bmRlciB0aGUgTGljZW5zZSBpcyBkaXN0cmlidXRlZCBvbiBhbiAiQVMgSVMiIEJBU0lTLAovLyBXSVRIT1VUIFdBUlJBTlRJRVMgT1IgQ09ORElUSU9OUyBPRiBBTlkgS0lORCwgZWl0aGVyIGV4cHJlc3Mgb3IgaW1wbGllZC4KLy8gU2VlIHRoZSBMaWNlbnNlIGZvciB0aGUgc3BlY2lmaWMgbGFuZ3VhZ2UgZ292ZXJuaW5nIHBlcm1pc3Npb25zIGFuZAovLyBsaW1pdGF0aW9ucyB1bmRlciB0aGUgTGljZW5zZS4KCi8qKgogKiBAZmlsZW92ZXJ2aWV3IEhlbHBlcnMgZm9yIGdvb2dsZS5jb2xhYiBQeXRob24gbW9kdWxlLgogKi8KKGZ1bmN0aW9uKHNjb3BlKSB7CmZ1bmN0aW9uIHNwYW4odGV4dCwgc3R5bGVBdHRyaWJ1dGVzID0ge30pIHsKICBjb25zdCBlbGVtZW50ID0gZG9jdW1lbnQuY3JlYXRlRWxlbWVudCgnc3BhbicpOwogIGVsZW1lbnQudGV4dENvbnRlbnQgPSB0ZXh0OwogIGZvciAoY29uc3Qga2V5IG9mIE9iamVjdC5rZXlzKHN0eWxlQXR0cmlidXRlcykpIHsKICAgIGVsZW1lbnQuc3R5bGVba2V5XSA9IHN0eWxlQXR0cmlidXRlc1trZXldOwogIH0KICByZXR1cm4gZWxlbWVudDsKfQoKLy8gTWF4IG51bWJlciBvZiBieXRlcyB3aGljaCB3aWxsIGJlIHVwbG9hZGVkIGF0IGEgdGltZS4KY29uc3QgTUFYX1BBWUxPQURfU0laRSA9IDEwMCAqIDEwMjQ7CgpmdW5jdGlvbiBfdXBsb2FkRmlsZXMoaW5wdXRJZCwgb3V0cHV0SWQpIHsKICBjb25zdCBzdGVwcyA9IHVwbG9hZEZpbGVzU3RlcChpbnB1dElkLCBvdXRwdXRJZCk7CiAgY29uc3Qgb3V0cHV0RWxlbWVudCA9IGRvY3VtZW50LmdldEVsZW1lbnRCeUlkKG91dHB1dElkKTsKICAvLyBDYWNoZSBzdGVwcyBvbiB0aGUgb3V0cHV0RWxlbWVudCB0byBtYWtlIGl0IGF2YWlsYWJsZSBmb3IgdGhlIG5leHQgY2FsbAogIC8vIHRvIHVwbG9hZEZpbGVzQ29udGludWUgZnJvbSBQeXRob24uCiAgb3V0cHV0RWxlbWVudC5zdGVwcyA9IHN0ZXBzOwoKICByZXR1cm4gX3VwbG9hZEZpbGVzQ29udGludWUob3V0cHV0SWQpOwp9CgovLyBUaGlzIGlzIHJvdWdobHkgYW4gYXN5bmMgZ2VuZXJhdG9yIChub3Qgc3VwcG9ydGVkIGluIHRoZSBicm93c2VyIHlldCksCi8vIHdoZXJlIHRoZXJlIGFyZSBtdWx0aXBsZSBhc3luY2hyb25vdXMgc3RlcHMgYW5kIHRoZSBQeXRob24gc2lkZSBpcyBnb2luZwovLyB0byBwb2xsIGZvciBjb21wbGV0aW9uIG9mIGVhY2ggc3RlcC4KLy8gVGhpcyB1c2VzIGEgUHJvbWlzZSB0byBibG9jayB0aGUgcHl0aG9uIHNpZGUgb24gY29tcGxldGlvbiBvZiBlYWNoIHN0ZXAsCi8vIHRoZW4gcGFzc2VzIHRoZSByZXN1bHQgb2YgdGhlIHByZXZpb3VzIHN0ZXAgYXMgdGhlIGlucHV0IHRvIHRoZSBuZXh0IHN0ZXAuCmZ1bmN0aW9uIF91cGxvYWRGaWxlc0NvbnRpbnVlKG91dHB1dElkKSB7CiAgY29uc3Qgb3V0cHV0RWxlbWVudCA9IGRvY3VtZW50LmdldEVsZW1lbnRCeUlkKG91dHB1dElkKTsKICBjb25zdCBzdGVwcyA9IG91dHB1dEVsZW1lbnQuc3RlcHM7CgogIGNvbnN0IG5leHQgPSBzdGVwcy5uZXh0KG91dHB1dEVsZW1lbnQubGFzdFByb21pc2VWYWx1ZSk7CiAgcmV0dXJuIFByb21pc2UucmVzb2x2ZShuZXh0LnZhbHVlLnByb21pc2UpLnRoZW4oKHZhbHVlKSA9PiB7CiAgICAvLyBDYWNoZSB0aGUgbGFzdCBwcm9taXNlIHZhbHVlIHRvIG1ha2UgaXQgYXZhaWxhYmxlIHRvIHRoZSBuZXh0CiAgICAvLyBzdGVwIG9mIHRoZSBnZW5lcmF0b3IuCiAgICBvdXRwdXRFbGVtZW50Lmxhc3RQcm9taXNlVmFsdWUgPSB2YWx1ZTsKICAgIHJldHVybiBuZXh0LnZhbHVlLnJlc3BvbnNlOwogIH0pOwp9CgovKioKICogR2VuZXJhdG9yIGZ1bmN0aW9uIHdoaWNoIGlzIGNhbGxlZCBiZXR3ZWVuIGVhY2ggYXN5bmMgc3RlcCBvZiB0aGUgdXBsb2FkCiAqIHByb2Nlc3MuCiAqIEBwYXJhbSB7c3RyaW5nfSBpbnB1dElkIEVsZW1lbnQgSUQgb2YgdGhlIGlucHV0IGZpbGUgcGlja2VyIGVsZW1lbnQuCiAqIEBwYXJhbSB7c3RyaW5nfSBvdXRwdXRJZCBFbGVtZW50IElEIG9mIHRoZSBvdXRwdXQgZGlzcGxheS4KICogQHJldHVybiB7IUl0ZXJhYmxlPCFPYmplY3Q+fSBJdGVyYWJsZSBvZiBuZXh0IHN0ZXBzLgogKi8KZnVuY3Rpb24qIHVwbG9hZEZpbGVzU3RlcChpbnB1dElkLCBvdXRwdXRJZCkgewogIGNvbnN0IGlucHV0RWxlbWVudCA9IGRvY3VtZW50LmdldEVsZW1lbnRCeUlkKGlucHV0SWQpOwogIGlucHV0RWxlbWVudC5kaXNhYmxlZCA9IGZhbHNlOwoKICBjb25zdCBvdXRwdXRFbGVtZW50ID0gZG9jdW1lbnQuZ2V0RWxlbWVudEJ5SWQob3V0cHV0SWQpOwogIG91dHB1dEVsZW1lbnQuaW5uZXJIVE1MID0gJyc7CgogIGNvbnN0IHBpY2tlZFByb21pc2UgPSBuZXcgUHJvbWlzZSgocmVzb2x2ZSkgPT4gewogICAgaW5wdXRFbGVtZW50LmFkZEV2ZW50TGlzdGVuZXIoJ2NoYW5nZScsIChlKSA9PiB7CiAgICAgIHJlc29sdmUoZS50YXJnZXQuZmlsZXMpOwogICAgfSk7CiAgfSk7CgogIGNvbnN0IGNhbmNlbCA9IGRvY3VtZW50LmNyZWF0ZUVsZW1lbnQoJ2J1dHRvbicpOwogIGlucHV0RWxlbWVudC5wYXJlbnRFbGVtZW50LmFwcGVuZENoaWxkKGNhbmNlbCk7CiAgY2FuY2VsLnRleHRDb250ZW50ID0gJ0NhbmNlbCB1cGxvYWQnOwogIGNvbnN0IGNhbmNlbFByb21pc2UgPSBuZXcgUHJvbWlzZSgocmVzb2x2ZSkgPT4gewogICAgY2FuY2VsLm9uY2xpY2sgPSAoKSA9PiB7CiAgICAgIHJlc29sdmUobnVsbCk7CiAgICB9OwogIH0pOwoKICAvLyBXYWl0IGZvciB0aGUgdXNlciB0byBwaWNrIHRoZSBmaWxlcy4KICBjb25zdCBmaWxlcyA9IHlpZWxkIHsKICAgIHByb21pc2U6IFByb21pc2UucmFjZShbcGlja2VkUHJvbWlzZSwgY2FuY2VsUHJvbWlzZV0pLAogICAgcmVzcG9uc2U6IHsKICAgICAgYWN0aW9uOiAnc3RhcnRpbmcnLAogICAgfQogIH07CgogIGNhbmNlbC5yZW1vdmUoKTsKCiAgLy8gRGlzYWJsZSB0aGUgaW5wdXQgZWxlbWVudCBzaW5jZSBmdXJ0aGVyIHBpY2tzIGFyZSBub3QgYWxsb3dlZC4KICBpbnB1dEVsZW1lbnQuZGlzYWJsZWQgPSB0cnVlOwoKICBpZiAoIWZpbGVzKSB7CiAgICByZXR1cm4gewogICAgICByZXNwb25zZTogewogICAgICAgIGFjdGlvbjogJ2NvbXBsZXRlJywKICAgICAgfQogICAgfTsKICB9CgogIGZvciAoY29uc3QgZmlsZSBvZiBmaWxlcykgewogICAgY29uc3QgbGkgPSBkb2N1bWVudC5jcmVhdGVFbGVtZW50KCdsaScpOwogICAgbGkuYXBwZW5kKHNwYW4oZmlsZS5uYW1lLCB7Zm9udFdlaWdodDogJ2JvbGQnfSkpOwogICAgbGkuYXBwZW5kKHNwYW4oCiAgICAgICAgYCgke2ZpbGUudHlwZSB8fCAnbi9hJ30pIC0gJHtmaWxlLnNpemV9IGJ5dGVzLCBgICsKICAgICAgICBgbGFzdCBtb2RpZmllZDogJHsKICAgICAgICAgICAgZmlsZS5sYXN0TW9kaWZpZWREYXRlID8gZmlsZS5sYXN0TW9kaWZpZWREYXRlLnRvTG9jYWxlRGF0ZVN0cmluZygpIDoKICAgICAgICAgICAgICAgICAgICAgICAgICAgICAgICAgICAgJ24vYSd9IC0gYCkpOwogICAgY29uc3QgcGVyY2VudCA9IHNwYW4oJzAlIGRvbmUnKTsKICAgIGxpLmFwcGVuZENoaWxkKHBlcmNlbnQpOwoKICAgIG91dHB1dEVsZW1lbnQuYXBwZW5kQ2hpbGQobGkpOwoKICAgIGNvbnN0IGZpbGVEYXRhUHJvbWlzZSA9IG5ldyBQcm9taXNlKChyZXNvbHZlKSA9PiB7CiAgICAgIGNvbnN0IHJlYWRlciA9IG5ldyBGaWxlUmVhZGVyKCk7CiAgICAgIHJlYWRlci5vbmxvYWQgPSAoZSkgPT4gewogICAgICAgIHJlc29sdmUoZS50YXJnZXQucmVzdWx0KTsKICAgICAgfTsKICAgICAgcmVhZGVyLnJlYWRBc0FycmF5QnVmZmVyKGZpbGUpOwogICAgfSk7CiAgICAvLyBXYWl0IGZvciB0aGUgZGF0YSB0byBiZSByZWFkeS4KICAgIGxldCBmaWxlRGF0YSA9IHlpZWxkIHsKICAgICAgcHJvbWlzZTogZmlsZURhdGFQcm9taXNlLAogICAgICByZXNwb25zZTogewogICAgICAgIGFjdGlvbjogJ2NvbnRpbnVlJywKICAgICAgfQogICAgfTsKCiAgICAvLyBVc2UgYSBjaHVua2VkIHNlbmRpbmcgdG8gYXZvaWQgbWVzc2FnZSBzaXplIGxpbWl0cy4gU2VlIGIvNjIxMTU2NjAuCiAgICBsZXQgcG9zaXRpb24gPSAwOwogICAgZG8gewogICAgICBjb25zdCBsZW5ndGggPSBNYXRoLm1pbihmaWxlRGF0YS5ieXRlTGVuZ3RoIC0gcG9zaXRpb24sIE1BWF9QQVlMT0FEX1NJWkUpOwogICAgICBjb25zdCBjaHVuayA9IG5ldyBVaW50OEFycmF5KGZpbGVEYXRhLCBwb3NpdGlvbiwgbGVuZ3RoKTsKICAgICAgcG9zaXRpb24gKz0gbGVuZ3RoOwoKICAgICAgY29uc3QgYmFzZTY0ID0gYnRvYShTdHJpbmcuZnJvbUNoYXJDb2RlLmFwcGx5KG51bGwsIGNodW5rKSk7CiAgICAgIHlpZWxkIHsKICAgICAgICByZXNwb25zZTogewogICAgICAgICAgYWN0aW9uOiAnYXBwZW5kJywKICAgICAgICAgIGZpbGU6IGZpbGUubmFtZSwKICAgICAgICAgIGRhdGE6IGJhc2U2NCwKICAgICAgICB9LAogICAgICB9OwoKICAgICAgbGV0IHBlcmNlbnREb25lID0gZmlsZURhdGEuYnl0ZUxlbmd0aCA9PT0gMCA/CiAgICAgICAgICAxMDAgOgogICAgICAgICAgTWF0aC5yb3VuZCgocG9zaXRpb24gLyBmaWxlRGF0YS5ieXRlTGVuZ3RoKSAqIDEwMCk7CiAgICAgIHBlcmNlbnQudGV4dENvbnRlbnQgPSBgJHtwZXJjZW50RG9uZX0lIGRvbmVgOwoKICAgIH0gd2hpbGUgKHBvc2l0aW9uIDwgZmlsZURhdGEuYnl0ZUxlbmd0aCk7CiAgfQoKICAvLyBBbGwgZG9uZS4KICB5aWVsZCB7CiAgICByZXNwb25zZTogewogICAgICBhY3Rpb246ICdjb21wbGV0ZScsCiAgICB9CiAgfTsKfQoKc2NvcGUuZ29vZ2xlID0gc2NvcGUuZ29vZ2xlIHx8IHt9OwpzY29wZS5nb29nbGUuY29sYWIgPSBzY29wZS5nb29nbGUuY29sYWIgfHwge307CnNjb3BlLmdvb2dsZS5jb2xhYi5fZmlsZXMgPSB7CiAgX3VwbG9hZEZpbGVzLAogIF91cGxvYWRGaWxlc0NvbnRpbnVlLAp9Owp9KShzZWxmKTsK",
              "ok": true,
              "headers": [
                [
                  "content-type",
                  "application/javascript"
                ]
              ],
              "status": 200,
              "status_text": ""
            }
          },
          "base_uri": "https://localhost:8080/",
          "height": 91
        },
        "id": "YIsW37YDV5ak",
        "outputId": "386bd6c2-72c5-493c-d5cb-6b8efa22e7a2"
      },
      "execution_count": 3,
      "outputs": [
        {
          "output_type": "display_data",
          "data": {
            "text/plain": [
              "<IPython.core.display.HTML object>"
            ],
            "text/html": [
              "\n",
              "     <input type=\"file\" id=\"files-6168960c-a9ed-4d1a-bcec-349caff63be5\" name=\"files[]\" multiple disabled\n",
              "        style=\"border:none\" />\n",
              "     <output id=\"result-6168960c-a9ed-4d1a-bcec-349caff63be5\">\n",
              "      Upload widget is only available when the cell has been executed in the\n",
              "      current browser session. Please rerun this cell to enable.\n",
              "      </output>\n",
              "      <script src=\"/nbextensions/google.colab/files.js\"></script> "
            ]
          },
          "metadata": {}
        },
        {
          "output_type": "stream",
          "name": "stdout",
          "text": [
            "Saving MY2022 Fuel Consumption Ratings.csv to MY2022 Fuel Consumption Ratings.csv\n"
          ]
        }
      ]
    },
    {
      "cell_type": "code",
      "source": [
        "dataset = pd.read_csv('MY2022 Fuel Consumption Ratings.csv')\n",
        "dataset.head(5)"
      ],
      "metadata": {
        "colab": {
          "base_uri": "https://localhost:8080/",
          "height": 496
        },
        "id": "rt-IRDVsY9xr",
        "outputId": "a014792b-be0f-4d12-a858-fb85d09c9bae"
      },
      "execution_count": 4,
      "outputs": [
        {
          "output_type": "execute_result",
          "data": {
            "text/plain": [
              "   Model Year   Make              Model Vehicle Class  Engine Size(L)  \\\n",
              "0        2022  Acura                ILX       Compact             2.4   \n",
              "1        2022  Acura         MDX SH-AWD    SUV: Small             3.5   \n",
              "2        2022  Acura         RDX SH-AWD    SUV: Small             2.0   \n",
              "3        2022  Acura  RDX SH-AWD A-SPEC    SUV: Small             2.0   \n",
              "4        2022  Acura         TLX SH-AWD       Compact             2.0   \n",
              "\n",
              "   Cylinders Transmission Fuel Type  Fuel Consumption (City (L/100 km)  \\\n",
              "0          4          AM8         Z                                9.9   \n",
              "1          6         AS10         Z                               12.6   \n",
              "2          4         AS10         Z                               11.0   \n",
              "3          4         AS10         Z                               11.3   \n",
              "4          4         AS10         Z                               11.2   \n",
              "\n",
              "   Fuel Consumption(Hwy (L/100 km))  Fuel Consumption(Comb (L/100 km))  \\\n",
              "0                               7.0                                8.6   \n",
              "1                               9.4                               11.2   \n",
              "2                               8.6                                9.9   \n",
              "3                               9.1                               10.3   \n",
              "4                               8.0                                9.8   \n",
              "\n",
              "   Fuel Consumption(Comb (mpg))  CO2 Emissions(g/km)  CO2 Rating  Smog Rating  \n",
              "0                            33                  200           6            3  \n",
              "1                            25                  263           4            5  \n",
              "2                            29                  232           5            6  \n",
              "3                            27                  242           5            6  \n",
              "4                            29                  230           5            7  "
            ],
            "text/html": [
              "\n",
              "  <div id=\"df-02c908aa-e279-4e37-8978-8d6c3f19c4e3\">\n",
              "    <div class=\"colab-df-container\">\n",
              "      <div>\n",
              "<style scoped>\n",
              "    .dataframe tbody tr th:only-of-type {\n",
              "        vertical-align: middle;\n",
              "    }\n",
              "\n",
              "    .dataframe tbody tr th {\n",
              "        vertical-align: top;\n",
              "    }\n",
              "\n",
              "    .dataframe thead th {\n",
              "        text-align: right;\n",
              "    }\n",
              "</style>\n",
              "<table border=\"1\" class=\"dataframe\">\n",
              "  <thead>\n",
              "    <tr style=\"text-align: right;\">\n",
              "      <th></th>\n",
              "      <th>Model Year</th>\n",
              "      <th>Make</th>\n",
              "      <th>Model</th>\n",
              "      <th>Vehicle Class</th>\n",
              "      <th>Engine Size(L)</th>\n",
              "      <th>Cylinders</th>\n",
              "      <th>Transmission</th>\n",
              "      <th>Fuel Type</th>\n",
              "      <th>Fuel Consumption (City (L/100 km)</th>\n",
              "      <th>Fuel Consumption(Hwy (L/100 km))</th>\n",
              "      <th>Fuel Consumption(Comb (L/100 km))</th>\n",
              "      <th>Fuel Consumption(Comb (mpg))</th>\n",
              "      <th>CO2 Emissions(g/km)</th>\n",
              "      <th>CO2 Rating</th>\n",
              "      <th>Smog Rating</th>\n",
              "    </tr>\n",
              "  </thead>\n",
              "  <tbody>\n",
              "    <tr>\n",
              "      <th>0</th>\n",
              "      <td>2022</td>\n",
              "      <td>Acura</td>\n",
              "      <td>ILX</td>\n",
              "      <td>Compact</td>\n",
              "      <td>2.4</td>\n",
              "      <td>4</td>\n",
              "      <td>AM8</td>\n",
              "      <td>Z</td>\n",
              "      <td>9.9</td>\n",
              "      <td>7.0</td>\n",
              "      <td>8.6</td>\n",
              "      <td>33</td>\n",
              "      <td>200</td>\n",
              "      <td>6</td>\n",
              "      <td>3</td>\n",
              "    </tr>\n",
              "    <tr>\n",
              "      <th>1</th>\n",
              "      <td>2022</td>\n",
              "      <td>Acura</td>\n",
              "      <td>MDX SH-AWD</td>\n",
              "      <td>SUV: Small</td>\n",
              "      <td>3.5</td>\n",
              "      <td>6</td>\n",
              "      <td>AS10</td>\n",
              "      <td>Z</td>\n",
              "      <td>12.6</td>\n",
              "      <td>9.4</td>\n",
              "      <td>11.2</td>\n",
              "      <td>25</td>\n",
              "      <td>263</td>\n",
              "      <td>4</td>\n",
              "      <td>5</td>\n",
              "    </tr>\n",
              "    <tr>\n",
              "      <th>2</th>\n",
              "      <td>2022</td>\n",
              "      <td>Acura</td>\n",
              "      <td>RDX SH-AWD</td>\n",
              "      <td>SUV: Small</td>\n",
              "      <td>2.0</td>\n",
              "      <td>4</td>\n",
              "      <td>AS10</td>\n",
              "      <td>Z</td>\n",
              "      <td>11.0</td>\n",
              "      <td>8.6</td>\n",
              "      <td>9.9</td>\n",
              "      <td>29</td>\n",
              "      <td>232</td>\n",
              "      <td>5</td>\n",
              "      <td>6</td>\n",
              "    </tr>\n",
              "    <tr>\n",
              "      <th>3</th>\n",
              "      <td>2022</td>\n",
              "      <td>Acura</td>\n",
              "      <td>RDX SH-AWD A-SPEC</td>\n",
              "      <td>SUV: Small</td>\n",
              "      <td>2.0</td>\n",
              "      <td>4</td>\n",
              "      <td>AS10</td>\n",
              "      <td>Z</td>\n",
              "      <td>11.3</td>\n",
              "      <td>9.1</td>\n",
              "      <td>10.3</td>\n",
              "      <td>27</td>\n",
              "      <td>242</td>\n",
              "      <td>5</td>\n",
              "      <td>6</td>\n",
              "    </tr>\n",
              "    <tr>\n",
              "      <th>4</th>\n",
              "      <td>2022</td>\n",
              "      <td>Acura</td>\n",
              "      <td>TLX SH-AWD</td>\n",
              "      <td>Compact</td>\n",
              "      <td>2.0</td>\n",
              "      <td>4</td>\n",
              "      <td>AS10</td>\n",
              "      <td>Z</td>\n",
              "      <td>11.2</td>\n",
              "      <td>8.0</td>\n",
              "      <td>9.8</td>\n",
              "      <td>29</td>\n",
              "      <td>230</td>\n",
              "      <td>5</td>\n",
              "      <td>7</td>\n",
              "    </tr>\n",
              "  </tbody>\n",
              "</table>\n",
              "</div>\n",
              "      <button class=\"colab-df-convert\" onclick=\"convertToInteractive('df-02c908aa-e279-4e37-8978-8d6c3f19c4e3')\"\n",
              "              title=\"Convert this dataframe to an interactive table.\"\n",
              "              style=\"display:none;\">\n",
              "        \n",
              "  <svg xmlns=\"http://www.w3.org/2000/svg\" height=\"24px\"viewBox=\"0 0 24 24\"\n",
              "       width=\"24px\">\n",
              "    <path d=\"M0 0h24v24H0V0z\" fill=\"none\"/>\n",
              "    <path d=\"M18.56 5.44l.94 2.06.94-2.06 2.06-.94-2.06-.94-.94-2.06-.94 2.06-2.06.94zm-11 1L8.5 8.5l.94-2.06 2.06-.94-2.06-.94L8.5 2.5l-.94 2.06-2.06.94zm10 10l.94 2.06.94-2.06 2.06-.94-2.06-.94-.94-2.06-.94 2.06-2.06.94z\"/><path d=\"M17.41 7.96l-1.37-1.37c-.4-.4-.92-.59-1.43-.59-.52 0-1.04.2-1.43.59L10.3 9.45l-7.72 7.72c-.78.78-.78 2.05 0 2.83L4 21.41c.39.39.9.59 1.41.59.51 0 1.02-.2 1.41-.59l7.78-7.78 2.81-2.81c.8-.78.8-2.07 0-2.86zM5.41 20L4 18.59l7.72-7.72 1.47 1.35L5.41 20z\"/>\n",
              "  </svg>\n",
              "      </button>\n",
              "      \n",
              "  <style>\n",
              "    .colab-df-container {\n",
              "      display:flex;\n",
              "      flex-wrap:wrap;\n",
              "      gap: 12px;\n",
              "    }\n",
              "\n",
              "    .colab-df-convert {\n",
              "      background-color: #E8F0FE;\n",
              "      border: none;\n",
              "      border-radius: 50%;\n",
              "      cursor: pointer;\n",
              "      display: none;\n",
              "      fill: #1967D2;\n",
              "      height: 32px;\n",
              "      padding: 0 0 0 0;\n",
              "      width: 32px;\n",
              "    }\n",
              "\n",
              "    .colab-df-convert:hover {\n",
              "      background-color: #E2EBFA;\n",
              "      box-shadow: 0px 1px 2px rgba(60, 64, 67, 0.3), 0px 1px 3px 1px rgba(60, 64, 67, 0.15);\n",
              "      fill: #174EA6;\n",
              "    }\n",
              "\n",
              "    [theme=dark] .colab-df-convert {\n",
              "      background-color: #3B4455;\n",
              "      fill: #D2E3FC;\n",
              "    }\n",
              "\n",
              "    [theme=dark] .colab-df-convert:hover {\n",
              "      background-color: #434B5C;\n",
              "      box-shadow: 0px 1px 3px 1px rgba(0, 0, 0, 0.15);\n",
              "      filter: drop-shadow(0px 1px 2px rgba(0, 0, 0, 0.3));\n",
              "      fill: #FFFFFF;\n",
              "    }\n",
              "  </style>\n",
              "\n",
              "      <script>\n",
              "        const buttonEl =\n",
              "          document.querySelector('#df-02c908aa-e279-4e37-8978-8d6c3f19c4e3 button.colab-df-convert');\n",
              "        buttonEl.style.display =\n",
              "          google.colab.kernel.accessAllowed ? 'block' : 'none';\n",
              "\n",
              "        async function convertToInteractive(key) {\n",
              "          const element = document.querySelector('#df-02c908aa-e279-4e37-8978-8d6c3f19c4e3');\n",
              "          const dataTable =\n",
              "            await google.colab.kernel.invokeFunction('convertToInteractive',\n",
              "                                                     [key], {});\n",
              "          if (!dataTable) return;\n",
              "\n",
              "          const docLinkHtml = 'Like what you see? Visit the ' +\n",
              "            '<a target=\"_blank\" href=https://colab.research.google.com/notebooks/data_table.ipynb>data table notebook</a>'\n",
              "            + ' to learn more about interactive tables.';\n",
              "          element.innerHTML = '';\n",
              "          dataTable['output_type'] = 'display_data';\n",
              "          await google.colab.output.renderOutput(dataTable, element);\n",
              "          const docLink = document.createElement('div');\n",
              "          docLink.innerHTML = docLinkHtml;\n",
              "          element.appendChild(docLink);\n",
              "        }\n",
              "      </script>\n",
              "    </div>\n",
              "  </div>\n",
              "  "
            ]
          },
          "metadata": {},
          "execution_count": 4
        }
      ]
    },
    {
      "cell_type": "code",
      "source": [
        "#linear - dataset is clean and tidy (****)"
      ],
      "metadata": {
        "id": "wgv1rWIYX8xB"
      },
      "execution_count": null,
      "outputs": []
    },
    {
      "cell_type": "code",
      "source": [
        "#select the variables(x,y)\n",
        "\n",
        "x_variable = ['Fuel Consumption(Hwy (L/100 km))']\n",
        "y_variable = ['CO2 Emissions(g/km)']\n",
        "\n",
        "#reshape variable\n",
        "x = dataset[x_variable].values.reshape(-1,1) #1st value -1, next value is the length of x_variable\n",
        "y = dataset[y_variable].values.reshape(-1,1) #1st value -1, next value is the length of y_variable\n",
        "print(x.shape)\n",
        "print(y.shape)\n",
        "#(or)\n",
        "z = np.array(dataset[x_variable]).reshape(-1,1)\n",
        "w = np.array(dataset[y_variable]).reshape(-1,1)\n",
        "print(z.shape)\n",
        "print(w.shape)\n",
        "\n"
      ],
      "metadata": {
        "colab": {
          "base_uri": "https://localhost:8080/"
        },
        "id": "C13wYG-kY1j9",
        "outputId": "6bcb70cf-0ddf-467a-cd28-5b241ca9767f"
      },
      "execution_count": 5,
      "outputs": [
        {
          "output_type": "stream",
          "name": "stdout",
          "text": [
            "(946, 1)\n",
            "(946, 1)\n",
            "(946, 1)\n",
            "(946, 1)\n"
          ]
        }
      ]
    },
    {
      "cell_type": "code",
      "source": [
        "#split the dataset\n",
        "x_train, x_test, y_train, y_test = train_test_split(x,y, test_size = 0.2)\n"
      ],
      "metadata": {
        "id": "fFa5CbTHct23"
      },
      "execution_count": 6,
      "outputs": []
    },
    {
      "cell_type": "code",
      "source": [
        "#build a model(simpleLinear)\n",
        "Lin_reg = LinearRegression()"
      ],
      "metadata": {
        "id": "u_wD7muSdfFM"
      },
      "execution_count": 7,
      "outputs": []
    },
    {
      "cell_type": "code",
      "source": [
        "#training\n",
        "model =  Lin_reg.fit(x_train, y_train)\n",
        "\n",
        "#y_hat = Q_0 + Q_1 *x"
      ],
      "metadata": {
        "id": "msGqFNhqeEqp"
      },
      "execution_count": 8,
      "outputs": []
    },
    {
      "cell_type": "code",
      "source": [
        "Q_0 = model.intercept_\n",
        "print(Q_0)\n",
        "Q_1 = model.coef_\n",
        "print(Q_1)\n"
      ],
      "metadata": {
        "colab": {
          "base_uri": "https://localhost:8080/"
        },
        "id": "MhvVZ-T8fhg2",
        "outputId": "6da9c022-4dc1-4a7d-94c6-3973a099a073"
      },
      "execution_count": 9,
      "outputs": [
        {
          "output_type": "stream",
          "name": "stdout",
          "text": [
            "[12.968688]\n",
            "[[26.33710467]]\n"
          ]
        }
      ]
    },
    {
      "cell_type": "code",
      "source": [
        "#result [rediction\n",
        "#predict the result using whole dataset \n",
        "y_predict = model.predict(x_test)\n",
        "print(y_predict)"
      ],
      "metadata": {
        "colab": {
          "base_uri": "https://localhost:8080/"
        },
        "id": "p-QPNXyAkR9y",
        "outputId": "8818ba44-5c61-407b-9bc2-477633410236"
      },
      "execution_count": 16,
      "outputs": [
        {
          "output_type": "stream",
          "name": "stdout",
          "text": [
            "[[247.36891955]\n",
            " [250.00263002]\n",
            " [176.25873695]\n",
            " [347.4499173 ]\n",
            " [265.80489282]\n",
            " [210.49697302]\n",
            " [255.27005096]\n",
            " [260.53747189]\n",
            " [292.14199749]\n",
            " [321.11281263]\n",
            " [199.96213115]\n",
            " [363.2521801 ]\n",
            " [336.91507543]\n",
            " [247.36891955]\n",
            " [213.13068349]\n",
            " [226.29923582]\n",
            " [178.89244742]\n",
            " [263.17118236]\n",
            " [242.10149862]\n",
            " [250.00263002]\n",
            " [292.14199749]\n",
            " [181.52615788]\n",
            " [176.25873695]\n",
            " [181.52615788]\n",
            " [384.32186383]\n",
            " [268.43860329]\n",
            " [363.2521801 ]\n",
            " [307.94426029]\n",
            " [347.4499173 ]\n",
            " [355.3510487 ]\n",
            " [244.73520909]\n",
            " [344.81620683]\n",
            " [384.32186383]\n",
            " [384.32186383]\n",
            " [284.24086609]\n",
            " [297.40941843]\n",
            " [250.00263002]\n",
            " [215.76439395]\n",
            " [242.10149862]\n",
            " [176.25873695]\n",
            " [260.53747189]\n",
            " [215.76439395]\n",
            " [255.27005096]\n",
            " [210.49697302]\n",
            " [278.97344516]\n",
            " [181.52615788]\n",
            " [294.77570796]\n",
            " [281.60715562]\n",
            " [242.10149862]\n",
            " [197.32842068]\n",
            " [202.59584162]\n",
            " [278.97344516]\n",
            " [323.74652309]\n",
            " [257.90376142]\n",
            " [197.32842068]\n",
            " [271.07231376]\n",
            " [276.33973469]\n",
            " [271.07231376]\n",
            " [271.07231376]\n",
            " [234.20036722]\n",
            " [163.09018462]\n",
            " [397.49041617]\n",
            " [213.13068349]\n",
            " [326.38023356]\n",
            " [215.76439395]\n",
            " [350.08362776]\n",
            " [265.80489282]\n",
            " [271.07231376]\n",
            " [176.25873695]\n",
            " [223.66552535]\n",
            " [178.89244742]\n",
            " [376.42073243]\n",
            " [265.80489282]\n",
            " [289.50828702]\n",
            " [310.57797076]\n",
            " [226.29923582]\n",
            " [276.33973469]\n",
            " [352.71733823]\n",
            " [228.93294629]\n",
            " [336.91507543]\n",
            " [265.80489282]\n",
            " [376.42073243]\n",
            " [202.59584162]\n",
            " [247.36891955]\n",
            " [336.91507543]\n",
            " [321.11281263]\n",
            " [334.28136496]\n",
            " [357.98475916]\n",
            " [410.6589685 ]\n",
            " [302.67683936]\n",
            " [194.69471022]\n",
            " [242.10149862]\n",
            " [173.62502648]\n",
            " [186.79357882]\n",
            " [205.22955208]\n",
            " [250.00263002]\n",
            " [260.53747189]\n",
            " [205.22955208]\n",
            " [226.29923582]\n",
            " [242.10149862]\n",
            " [302.67683936]\n",
            " [278.97344516]\n",
            " [202.59584162]\n",
            " [218.39810442]\n",
            " [265.80489282]\n",
            " [231.56665675]\n",
            " [236.83407769]\n",
            " [223.66552535]\n",
            " [310.57797076]\n",
            " [271.07231376]\n",
            " [236.83407769]\n",
            " [228.93294629]\n",
            " [271.07231376]\n",
            " [221.03181489]\n",
            " [168.35760555]\n",
            " [213.13068349]\n",
            " [136.75307995]\n",
            " [170.99131602]\n",
            " [247.36891955]\n",
            " [344.81620683]\n",
            " [192.06099975]\n",
            " [213.13068349]\n",
            " [250.00263002]\n",
            " [289.50828702]\n",
            " [115.68339621]\n",
            " [281.60715562]\n",
            " [170.99131602]\n",
            " [199.96213115]\n",
            " [207.86326255]\n",
            " [218.39810442]\n",
            " [310.57797076]\n",
            " [326.38023356]\n",
            " [318.47910216]\n",
            " [221.03181489]\n",
            " [263.17118236]\n",
            " [252.63634049]\n",
            " [192.06099975]\n",
            " [329.01394403]\n",
            " [368.51960103]\n",
            " [192.06099975]\n",
            " [265.80489282]\n",
            " [242.10149862]\n",
            " [247.36891955]\n",
            " [310.57797076]\n",
            " [268.43860329]\n",
            " [297.40941843]\n",
            " [202.59584162]\n",
            " [192.06099975]\n",
            " [234.20036722]\n",
            " [286.87457656]\n",
            " [292.14199749]\n",
            " [181.52615788]\n",
            " [273.70602422]\n",
            " [326.38023356]\n",
            " [265.80489282]\n",
            " [273.70602422]\n",
            " [178.89244742]\n",
            " [234.20036722]\n",
            " [252.63634049]\n",
            " [221.03181489]\n",
            " [384.32186383]\n",
            " [223.66552535]\n",
            " [228.93294629]\n",
            " [199.96213115]\n",
            " [176.25873695]\n",
            " [221.03181489]\n",
            " [210.49697302]\n",
            " [326.38023356]\n",
            " [305.31054983]\n",
            " [202.59584162]\n",
            " [239.46778815]\n",
            " [231.56665675]\n",
            " [250.00263002]\n",
            " [265.80489282]\n",
            " [250.00263002]\n",
            " [223.66552535]\n",
            " [339.54878589]\n",
            " [347.4499173 ]\n",
            " [300.04312889]\n",
            " [189.42728928]\n",
            " [257.90376142]\n",
            " [207.86326255]\n",
            " [213.13068349]\n",
            " [323.74652309]\n",
            " [434.3623627 ]\n",
            " [302.67683936]\n",
            " [197.32842068]\n",
            " [207.86326255]\n",
            " [294.77570796]\n",
            " [336.91507543]]\n"
          ]
        }
      ]
    },
    {
      "cell_type": "code",
      "source": [
        "#predict the single value\n",
        "x_assum = np.array([15])\n",
        "x_assum = x_assum.reshape(-1,1)\n",
        "\n",
        "y_predict = model.predict(x_assum)\n",
        "print(y_predict)"
      ],
      "metadata": {
        "colab": {
          "base_uri": "https://localhost:8080/"
        },
        "id": "-vBwj-pXkYw0",
        "outputId": "e14c31d7-1ef4-4c25-fe35-cc44799c05cd"
      },
      "execution_count": 18,
      "outputs": [
        {
          "output_type": "stream",
          "name": "stdout",
          "text": [
            "[[408.02525803]]\n"
          ]
        }
      ]
    },
    {
      "cell_type": "code",
      "source": [
        "#graph\n",
        "plt.scatter(x_test, y_test, color = \"Blue\")\n",
        "plt.plot(x_test, y_predict, color = \"Red\")\n",
        "plt.show()"
      ],
      "metadata": {
        "colab": {
          "base_uri": "https://localhost:8080/",
          "height": 265
        },
        "id": "rM8QHYn_lxVt",
        "outputId": "3666c52f-0253-4d40-9fb5-b28e36890848"
      },
      "execution_count": 17,
      "outputs": [
        {
          "output_type": "display_data",
          "data": {
            "text/plain": [
              "<Figure size 432x288 with 1 Axes>"
            ],
            "image/png": "[encoded data removed]"
          },
          "metadata": {
            "needs_background": "light"
          }
        }
      ]
    },
    {
      "cell_type": "code",
      "source": [
        "#Multiple Linear regression\n",
        "#select the variables (x-FUELCONSUMPTION_HWY , y - CO2EMISSIONS)\n",
        "\n",
        "x_variable1 = ['Engine Size(L)','Cylinders','Fuel Consumption(Hwy (L/100 km))' ] #input, Multiple input\n",
        "y_variable1 = ['Fuel Consumption(Comb (L/100 km))'] #output\n",
        "\n",
        "len(x_variable)\n",
        "#reshape variable\n",
        "x1 = dataset[x_variable1].values.reshape(-1,3) # 1st value is -1, next value is the length of x_variable\n",
        "y1 = dataset[y_variable1].values.reshape(-1,1)\n",
        "print(x1.shape)\n",
        "print(y1.shape)\n",
        "#(or)"
      ],
      "metadata": {
        "id": "HPCnJBDks5rY",
        "colab": {
          "base_uri": "https://localhost:8080/"
        },
        "outputId": "ae487944-6dfc-4f3f-961d-e0e914f94859"
      },
      "execution_count": 19,
      "outputs": [
        {
          "output_type": "stream",
          "name": "stdout",
          "text": [
            "(946, 3)\n",
            "(946, 1)\n"
          ]
        }
      ]
    },
    {
      "cell_type": "code",
      "source": [
        "x_train1, x_test1, y_train1, y_test1 =  train_test_split(x1, y1, test_size = 0.2) # 80% for train, 20% for testing\n",
        "print(x_train1.shape)\n",
        "print(x_test1.shape)"
      ],
      "metadata": {
        "colab": {
          "base_uri": "https://localhost:8080/"
        },
        "id": "GZHHlj_zXUO_",
        "outputId": "4bc75ed7-3b09-47e2-c305-0b1894621711"
      },
      "execution_count": 20,
      "outputs": [
        {
          "output_type": "stream",
          "name": "stdout",
          "text": [
            "(756, 3)\n",
            "(190, 3)\n"
          ]
        }
      ]
    },
    {
      "cell_type": "code",
      "source": [
        "#build a model(multipleLinear)\n",
        "Lin_reg1 = LinearRegression()"
      ],
      "metadata": {
        "id": "OjN4Vd3xXVwm"
      },
      "execution_count": 21,
      "outputs": []
    },
    {
      "cell_type": "code",
      "source": [
        "#training\n",
        "model1 = Lin_reg.fit(x_train1, y_train1)\n",
        "\n",
        "# y_hat = Q_0(intercept) + Q_1(slope) * FUELCONSUMPTION_HWY'+ Q_2*'ENGINESIZE'+ "
      ],
      "metadata": {
        "id": "TL401F9VXYil"
      },
      "execution_count": 22,
      "outputs": []
    },
    {
      "cell_type": "code",
      "source": [
        "#finding intercept & slope(Coefficient)\n",
        "Q_0 = model.intercept_\n",
        "print(Q_0)\n",
        "Q_1 = model.coef_\n",
        "print(Q_1)\n",
        "#just for understanding"
      ],
      "metadata": {
        "colab": {
          "base_uri": "https://localhost:8080/"
        },
        "id": "n2udy_sBXZ3q",
        "outputId": "0e0b46db-7ab5-4d2f-96ae-01fa180a5915"
      },
      "execution_count": 23,
      "outputs": [
        {
          "output_type": "stream",
          "name": "stdout",
          "text": [
            "[-0.14484022]\n",
            "[[0.07259924 0.30983283 0.9883083 ]]\n"
          ]
        }
      ]
    },
    {
      "cell_type": "code",
      "source": [
        "y_predict1 = model1.predict(x_test1)\n",
        "print(y_predict1)"
      ],
      "metadata": {
        "colab": {
          "base_uri": "https://localhost:8080/"
        },
        "id": "VIfNJRj_XcUm",
        "outputId": "92150793-afcb-4319-9f17-3afc4626b4db"
      },
      "execution_count": 25,
      "outputs": [
        {
          "output_type": "stream",
          "name": "stdout",
          "text": [
            "[[ 7.07070853]\n",
            " [12.05625866]\n",
            " [ 7.73348464]\n",
            " [13.6932723 ]\n",
            " [16.61108401]\n",
            " [18.53153115]\n",
            " [14.47946713]\n",
            " [ 8.15784766]\n",
            " [11.71575754]\n",
            " [ 8.63748196]\n",
            " [ 7.26837019]\n",
            " [11.26561202]\n",
            " [11.02439081]\n",
            " [13.53146118]\n",
            " [14.3806363 ]\n",
            " [14.31084517]\n",
            " [10.8702887 ]\n",
            " [ 9.47894807]\n",
            " [11.46327368]\n",
            " [12.49959334]\n",
            " [ 6.40630382]\n",
            " [12.3382313 ]\n",
            " [ 9.44264845]\n",
            " [ 8.05901683]\n",
            " [14.87479045]\n",
            " [14.01880449]\n",
            " [15.86309875]\n",
            " [ 8.55317098]\n",
            " [ 8.65200181]\n",
            " [16.55936637]\n",
            " [11.25835209]\n",
            " [ 9.04732513]\n",
            " [10.53023666]\n",
            " [ 8.12880796]\n",
            " [12.01314819]\n",
            " [ 7.50233147]\n",
            " [15.27011377]\n",
            " [10.96911953]\n",
            " [12.18457827]\n",
            " [ 7.6011623 ]\n",
            " [11.57662436]\n",
            " [14.54480645]\n",
            " [ 8.88596309]\n",
            " [14.90012386]\n",
            " [15.27011377]\n",
            " [ 7.56486268]\n",
            " [11.75976617]\n",
            " [12.00543919]\n",
            " [13.86470238]\n",
            " [14.14948313]\n",
            " [12.97522491]\n",
            " [ 8.84966347]\n",
            " [ 9.68431874]\n",
            " [12.14101872]\n",
            " [ 9.39463709]\n",
            " [ 9.08362475]\n",
            " [ 5.06505224]\n",
            " [11.46327368]\n",
            " [ 9.08362475]\n",
            " [ 8.65200181]\n",
            " [13.76587155]\n",
            " [11.46327368]\n",
            " [ 9.14615596]\n",
            " [ 9.76092071]\n",
            " [13.12932702]\n",
            " [ 9.73959002]\n",
            " [14.48391894]\n",
            " [ 8.75083264]\n",
            " [12.11152994]\n",
            " [10.92555998]\n",
            " [15.8453217 ]\n",
            " [ 8.29297811]\n",
            " [ 8.39180894]\n",
            " [21.79919669]\n",
            " [ 7.15501951]\n",
            " [ 7.02106858]\n",
            " [ 9.34381762]\n",
            " [15.14950316]\n",
            " [12.01269911]\n",
            " [ 8.15784766]\n",
            " [10.52978758]\n",
            " [ 9.83797177]\n",
            " [13.63029201]\n",
            " [ 9.64075919]\n",
            " [12.01269911]\n",
            " [ 8.19414728]\n",
            " [ 9.04732513]\n",
            " [ 9.66208988]\n",
            " [14.87479045]\n",
            " [ 9.87427139]\n",
            " [ 9.59111924]\n",
            " [ 7.76252434]\n",
            " [13.6932723 ]\n",
            " [ 9.26676656]\n",
            " [11.77383693]\n",
            " [ 7.73348464]\n",
            " [ 9.9658423 ]\n",
            " [10.86302877]\n",
            " [ 7.56486268]\n",
            " [11.36444285]\n",
            " [12.52818395]\n",
            " [12.00543919]\n",
            " [17.24673036]\n",
            " [14.97362128]\n",
            " [ 9.10985634]\n",
            " [ 9.36559739]\n",
            " [10.03608251]\n",
            " [ 7.61405355]\n",
            " [ 8.45434015]\n",
            " [14.0506523 ]\n",
            " [11.3789627 ]\n",
            " [11.88763669]\n",
            " [11.68997503]\n",
            " [12.01269911]\n",
            " [12.99374748]\n",
            " [13.52465034]\n",
            " [ 8.25667849]\n",
            " [14.28625728]\n",
            " [13.88648215]\n",
            " [10.23374417]\n",
            " [ 7.99648562]\n",
            " [ 8.25667849]\n",
            " [11.02394173]\n",
            " [10.03563343]\n",
            " [ 7.46603185]\n",
            " [13.03730703]\n",
            " [11.56210451]\n",
            " [ 8.5894706 ]\n",
            " [10.67262704]\n",
            " [ 7.83231547]\n",
            " [14.0506523 ]\n",
            " [14.94012977]\n",
            " [ 7.89765479]\n",
            " [ 9.93725168]\n",
            " [14.47946713]\n",
            " [13.19911815]\n",
            " [14.12444616]\n",
            " [ 8.50353102]\n",
            " [10.23374417]\n",
            " [ 9.83797177]\n",
            " [ 8.57495075]\n",
            " [ 8.05901683]\n",
            " [ 9.54192836]\n",
            " [ 8.9484943 ]\n",
            " [15.82960724]\n",
            " [11.41971413]\n",
            " [12.01269911]\n",
            " [13.15020862]\n",
            " [ 8.977534  ]\n",
            " [10.62906749]\n",
            " [15.26285384]\n",
            " [ 9.57051898]\n",
            " [ 9.54147928]\n",
            " [13.12932702]\n",
            " [ 9.40634883]\n",
            " [ 8.51687136]\n",
            " [14.95139242]\n",
            " [ 8.38292042]\n",
            " [12.63472379]\n",
            " [11.71575754]\n",
            " [16.73079644]\n",
            " [14.46939909]\n",
            " [ 6.21753069]\n",
            " [16.73079644]\n",
            " [ 7.16953936]\n",
            " [11.85133707]\n",
            " [16.08018115]\n",
            " [10.03563343]\n",
            " [ 9.76092071]\n",
            " [14.45723827]\n",
            " [11.89208851]\n",
            " [12.00543919]\n",
            " [13.53146118]\n",
            " [ 7.86135517]\n",
            " [12.40076251]\n",
            " [ 8.94894338]\n",
            " [ 7.99648562]\n",
            " [ 8.75083264]\n",
            " [13.71786019]\n",
            " [ 7.99648562]\n",
            " [13.89093396]\n",
            " [ 7.50233147]\n",
            " [ 8.81336385]\n",
            " [13.35883649]\n",
            " [10.94733975]\n",
            " [ 7.26837019]\n",
            " [ 9.44264845]\n",
            " [ 8.15784766]\n",
            " [ 7.66369351]\n",
            " [11.91386828]]\n"
          ]
        }
      ]
    },
    {
      "cell_type": "markdown",
      "source": [
        "Task: \n",
        "1. Simple Linear -MSE, Absolute error, R^2\n",
        "2. Repeat the same for Multiple IR\n",
        "3. Graph for Multiple"
      ],
      "metadata": {
        "id": "BJOB8PE0ss6y"
      }
    }
  ]
}