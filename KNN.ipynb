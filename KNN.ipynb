{
  "nbformat": 4,
  "nbformat_minor": 0,
  "metadata": {
    "colab": {
      "name": "KNN.ipynb",
      "provenance": [],
      "authorship_tag": "ABX9TyMNuz8vGbiKHuhitomqaWYs",
      "include_colab_link": true
    },
    "kernelspec": {
      "name": "python3",
      "display_name": "Python 3"
    },
    "language_info": {
      "name": "python"
    }
  },
  "cells": [
    {
      "cell_type": "markdown",
      "metadata": {
        "id": "view-in-github",
        "colab_type": "text"
      },
      "source": [
        "<a href=\"https://colab.research.google.com/github/ChimSovann/Machine-Learning/blob/main/KNN.ipynb\" target=\"_parent\"><img src=\"https://colab.research.google.com/assets/colab-badge.svg\" alt=\"Open In Colab\"/></a>"
      ]
    },
    {
      "cell_type": "code",
      "execution_count": null,
      "metadata": {
        "id": "xBypcZcQiRyJ"
      },
      "outputs": [],
      "source": [
        "#lib\n",
        "import sklearn\n",
        "import numpy as np\n",
        "import pandas as pd\n",
        "import matplotlib.pyplot as plt\n",
        "from sklearn import datasets\n",
        "from sklearn.model_selection import train_test_split\n",
        "from sklearn.neighbors import KNeighborsClassifier\n",
        "from sklearn import preprocessing"
      ]
    },
    {
      "cell_type": "markdown",
      "source": [
        ""
      ],
      "metadata": {
        "id": "dua6geKnC6I0"
      }
    },
    {
      "cell_type": "code",
      "source": [
        "#dataset\n",
        "from google.colab import files\n",
        "upload = files.upload ()"
      ],
      "metadata": {
        "id": "-Wjb-FBPirp-",
        "colab": {
          "resources": {
            "http://localhost:8080/nbextensions/google.colab/files.js": {
              "data": "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",
              "ok": true,
              "headers": [
                [
                  "content-type",
                  "application/javascript"
                ]
              ],
              "status": 200,
              "status_text": ""
            }
          },
          "base_uri": "https://localhost:8080/",
          "height": 74
        },
        "outputId": "e55468d5-3408-4fbb-dcdc-410331a34c62"
      },
      "execution_count": 24,
      "outputs": [
        {
          "output_type": "display_data",
          "data": {
            "text/plain": [
              "<IPython.core.display.HTML object>"
            ],
            "text/html": [
              "\n",
              "     <input type=\"file\" id=\"files-e5048b17-96f9-44dc-bbc5-d5387ecd29d1\" name=\"files[]\" multiple disabled\n",
              "        style=\"border:none\" />\n",
              "     <output id=\"result-e5048b17-96f9-44dc-bbc5-d5387ecd29d1\">\n",
              "      Upload widget is only available when the cell has been executed in the\n",
              "      current browser session. Please rerun this cell to enable.\n",
              "      </output>\n",
              "      <script src=\"/nbextensions/google.colab/files.js\"></script> "
            ]
          },
          "metadata": {}
        },
        {
          "output_type": "stream",
          "name": "stdout",
          "text": [
            "Saving Iris.csv to Iris (1).csv\n"
          ]
        }
      ]
    },
    {
      "cell_type": "code",
      "source": [
        "#dataset\n",
        "iris = pd.read_csv ('Iris.csv')\n",
        "iris.head(5)"
      ],
      "metadata": {
        "colab": {
          "base_uri": "https://localhost:8080/",
          "height": 206
        },
        "id": "dwQiDEp8i6AM",
        "outputId": "f540c665-e365-4c35-84a6-d6b16ba80019"
      },
      "execution_count": 25,
      "outputs": [
        {
          "output_type": "execute_result",
          "data": {
            "text/plain": [
              "   Id  SepalLengthCm  SepalWidthCm  PetalLengthCm  PetalWidthCm      Species\n",
              "0   1            5.1           3.5            1.4           0.2  Iris-setosa\n",
              "1   2            4.9           3.0            1.4           0.2  Iris-setosa\n",
              "2   3            4.7           3.2            1.3           0.2  Iris-setosa\n",
              "3   4            4.6           3.1            1.5           0.2  Iris-setosa\n",
              "4   5            5.0           3.6            1.4           0.2  Iris-setosa"
            ],
            "text/html": [
              "\n",
              "  <div id=\"df-1ba449b9-677e-4fe8-9ed5-f102e93cf735\">\n",
              "    <div class=\"colab-df-container\">\n",
              "      <div>\n",
              "<style scoped>\n",
              "    .dataframe tbody tr th:only-of-type {\n",
              "        vertical-align: middle;\n",
              "    }\n",
              "\n",
              "    .dataframe tbody tr th {\n",
              "        vertical-align: top;\n",
              "    }\n",
              "\n",
              "    .dataframe thead th {\n",
              "        text-align: right;\n",
              "    }\n",
              "</style>\n",
              "<table border=\"1\" class=\"dataframe\">\n",
              "  <thead>\n",
              "    <tr style=\"text-align: right;\">\n",
              "      <th></th>\n",
              "      <th>Id</th>\n",
              "      <th>SepalLengthCm</th>\n",
              "      <th>SepalWidthCm</th>\n",
              "      <th>PetalLengthCm</th>\n",
              "      <th>PetalWidthCm</th>\n",
              "      <th>Species</th>\n",
              "    </tr>\n",
              "  </thead>\n",
              "  <tbody>\n",
              "    <tr>\n",
              "      <th>0</th>\n",
              "      <td>1</td>\n",
              "      <td>5.1</td>\n",
              "      <td>3.5</td>\n",
              "      <td>1.4</td>\n",
              "      <td>0.2</td>\n",
              "      <td>Iris-setosa</td>\n",
              "    </tr>\n",
              "    <tr>\n",
              "      <th>1</th>\n",
              "      <td>2</td>\n",
              "      <td>4.9</td>\n",
              "      <td>3.0</td>\n",
              "      <td>1.4</td>\n",
              "      <td>0.2</td>\n",
              "      <td>Iris-setosa</td>\n",
              "    </tr>\n",
              "    <tr>\n",
              "      <th>2</th>\n",
              "      <td>3</td>\n",
              "      <td>4.7</td>\n",
              "      <td>3.2</td>\n",
              "      <td>1.3</td>\n",
              "      <td>0.2</td>\n",
              "      <td>Iris-setosa</td>\n",
              "    </tr>\n",
              "    <tr>\n",
              "      <th>3</th>\n",
              "      <td>4</td>\n",
              "      <td>4.6</td>\n",
              "      <td>3.1</td>\n",
              "      <td>1.5</td>\n",
              "      <td>0.2</td>\n",
              "      <td>Iris-setosa</td>\n",
              "    </tr>\n",
              "    <tr>\n",
              "      <th>4</th>\n",
              "      <td>5</td>\n",
              "      <td>5.0</td>\n",
              "      <td>3.6</td>\n",
              "      <td>1.4</td>\n",
              "      <td>0.2</td>\n",
              "      <td>Iris-setosa</td>\n",
              "    </tr>\n",
              "  </tbody>\n",
              "</table>\n",
              "</div>\n",
              "      <button class=\"colab-df-convert\" onclick=\"convertToInteractive('df-1ba449b9-677e-4fe8-9ed5-f102e93cf735')\"\n",
              "              title=\"Convert this dataframe to an interactive table.\"\n",
              "              style=\"display:none;\">\n",
              "        \n",
              "  <svg xmlns=\"http://www.w3.org/2000/svg\" height=\"24px\"viewBox=\"0 0 24 24\"\n",
              "       width=\"24px\">\n",
              "    <path d=\"M0 0h24v24H0V0z\" fill=\"none\"/>\n",
              "    <path d=\"M18.56 5.44l.94 2.06.94-2.06 2.06-.94-2.06-.94-.94-2.06-.94 2.06-2.06.94zm-11 1L8.5 8.5l.94-2.06 2.06-.94-2.06-.94L8.5 2.5l-.94 2.06-2.06.94zm10 10l.94 2.06.94-2.06 2.06-.94-2.06-.94-.94-2.06-.94 2.06-2.06.94z\"/><path d=\"M17.41 7.96l-1.37-1.37c-.4-.4-.92-.59-1.43-.59-.52 0-1.04.2-1.43.59L10.3 9.45l-7.72 7.72c-.78.78-.78 2.05 0 2.83L4 21.41c.39.39.9.59 1.41.59.51 0 1.02-.2 1.41-.59l7.78-7.78 2.81-2.81c.8-.78.8-2.07 0-2.86zM5.41 20L4 18.59l7.72-7.72 1.47 1.35L5.41 20z\"/>\n",
              "  </svg>\n",
              "      </button>\n",
              "      \n",
              "  <style>\n",
              "    .colab-df-container {\n",
              "      display:flex;\n",
              "      flex-wrap:wrap;\n",
              "      gap: 12px;\n",
              "    }\n",
              "\n",
              "    .colab-df-convert {\n",
              "      background-color: #E8F0FE;\n",
              "      border: none;\n",
              "      border-radius: 50%;\n",
              "      cursor: pointer;\n",
              "      display: none;\n",
              "      fill: #1967D2;\n",
              "      height: 32px;\n",
              "      padding: 0 0 0 0;\n",
              "      width: 32px;\n",
              "    }\n",
              "\n",
              "    .colab-df-convert:hover {\n",
              "      background-color: #E2EBFA;\n",
              "      box-shadow: 0px 1px 2px rgba(60, 64, 67, 0.3), 0px 1px 3px 1px rgba(60, 64, 67, 0.15);\n",
              "      fill: #174EA6;\n",
              "    }\n",
              "\n",
              "    [theme=dark] .colab-df-convert {\n",
              "      background-color: #3B4455;\n",
              "      fill: #D2E3FC;\n",
              "    }\n",
              "\n",
              "    [theme=dark] .colab-df-convert:hover {\n",
              "      background-color: #434B5C;\n",
              "      box-shadow: 0px 1px 3px 1px rgba(0, 0, 0, 0.15);\n",
              "      filter: drop-shadow(0px 1px 2px rgba(0, 0, 0, 0.3));\n",
              "      fill: #FFFFFF;\n",
              "    }\n",
              "  </style>\n",
              "\n",
              "      <script>\n",
              "        const buttonEl =\n",
              "          document.querySelector('#df-1ba449b9-677e-4fe8-9ed5-f102e93cf735 button.colab-df-convert');\n",
              "        buttonEl.style.display =\n",
              "          google.colab.kernel.accessAllowed ? 'block' : 'none';\n",
              "\n",
              "        async function convertToInteractive(key) {\n",
              "          const element = document.querySelector('#df-1ba449b9-677e-4fe8-9ed5-f102e93cf735');\n",
              "          const dataTable =\n",
              "            await google.colab.kernel.invokeFunction('convertToInteractive',\n",
              "                                                     [key], {});\n",
              "          if (!dataTable) return;\n",
              "\n",
              "          const docLinkHtml = 'Like what you see? Visit the ' +\n",
              "            '<a target=\"_blank\" href=https://colab.research.google.com/notebooks/data_table.ipynb>data table notebook</a>'\n",
              "            + ' to learn more about interactive tables.';\n",
              "          element.innerHTML = '';\n",
              "          dataTable['output_type'] = 'display_data';\n",
              "          await google.colab.output.renderOutput(dataTable, element);\n",
              "          const docLink = document.createElement('div');\n",
              "          docLink.innerHTML = docLinkHtml;\n",
              "          element.appendChild(docLink);\n",
              "        }\n",
              "      </script>\n",
              "    </div>\n",
              "  </div>\n",
              "  "
            ]
          },
          "metadata": {},
          "execution_count": 25
        }
      ]
    },
    {
      "cell_type": "code",
      "source": [
        "iris.shape"
      ],
      "metadata": {
        "id": "UNX4E3cHjWiM",
        "colab": {
          "base_uri": "https://localhost:8080/"
        },
        "outputId": "a7cbda0a-5794-4943-d721-9e9fa0b55640"
      },
      "execution_count": 26,
      "outputs": [
        {
          "output_type": "execute_result",
          "data": {
            "text/plain": [
              "(150, 6)"
            ]
          },
          "metadata": {},
          "execution_count": 26
        }
      ]
    },
    {
      "cell_type": "code",
      "source": [
        "iris.columns"
      ],
      "metadata": {
        "colab": {
          "base_uri": "https://localhost:8080/"
        },
        "id": "Xr7qXqbOD2JS",
        "outputId": "39bddfd4-a980-40f1-ddf4-4f4b9ac2b224"
      },
      "execution_count": 27,
      "outputs": [
        {
          "output_type": "execute_result",
          "data": {
            "text/plain": [
              "Index(['Id', 'SepalLengthCm', 'SepalWidthCm', 'PetalLengthCm', 'PetalWidthCm',\n",
              "       'Species'],\n",
              "      dtype='object')"
            ]
          },
          "metadata": {},
          "execution_count": 27
        }
      ]
    },
    {
      "cell_type": "code",
      "source": [
        "iris.values"
      ],
      "metadata": {
        "colab": {
          "base_uri": "https://localhost:8080/"
        },
        "id": "nm8trY3_D4ct",
        "outputId": "3fd80245-f3f1-4302-95ed-88000814341b"
      },
      "execution_count": 28,
      "outputs": [
        {
          "output_type": "execute_result",
          "data": {
            "text/plain": [
              "array([[1, 5.1, 3.5, 1.4, 0.2, 'Iris-setosa'],\n",
              "       [2, 4.9, 3.0, 1.4, 0.2, 'Iris-setosa'],\n",
              "       [3, 4.7, 3.2, 1.3, 0.2, 'Iris-setosa'],\n",
              "       [4, 4.6, 3.1, 1.5, 0.2, 'Iris-setosa'],\n",
              "       [5, 5.0, 3.6, 1.4, 0.2, 'Iris-setosa'],\n",
              "       [6, 5.4, 3.9, 1.7, 0.4, 'Iris-setosa'],\n",
              "       [7, 4.6, 3.4, 1.4, 0.3, 'Iris-setosa'],\n",
              "       [8, 5.0, 3.4, 1.5, 0.2, 'Iris-setosa'],\n",
              "       [9, 4.4, 2.9, 1.4, 0.2, 'Iris-setosa'],\n",
              "       [10, 4.9, 3.1, 1.5, 0.1, 'Iris-setosa'],\n",
              "       [11, 5.4, 3.7, 1.5, 0.2, 'Iris-setosa'],\n",
              "       [12, 4.8, 3.4, 1.6, 0.2, 'Iris-setosa'],\n",
              "       [13, 4.8, 3.0, 1.4, 0.1, 'Iris-setosa'],\n",
              "       [14, 4.3, 3.0, 1.1, 0.1, 'Iris-setosa'],\n",
              "       [15, 5.8, 4.0, 1.2, 0.2, 'Iris-setosa'],\n",
              "       [16, 5.7, 4.4, 1.5, 0.4, 'Iris-setosa'],\n",
              "       [17, 5.4, 3.9, 1.3, 0.4, 'Iris-setosa'],\n",
              "       [18, 5.1, 3.5, 1.4, 0.3, 'Iris-setosa'],\n",
              "       [19, 5.7, 3.8, 1.7, 0.3, 'Iris-setosa'],\n",
              "       [20, 5.1, 3.8, 1.5, 0.3, 'Iris-setosa'],\n",
              "       [21, 5.4, 3.4, 1.7, 0.2, 'Iris-setosa'],\n",
              "       [22, 5.1, 3.7, 1.5, 0.4, 'Iris-setosa'],\n",
              "       [23, 4.6, 3.6, 1.0, 0.2, 'Iris-setosa'],\n",
              "       [24, 5.1, 3.3, 1.7, 0.5, 'Iris-setosa'],\n",
              "       [25, 4.8, 3.4, 1.9, 0.2, 'Iris-setosa'],\n",
              "       [26, 5.0, 3.0, 1.6, 0.2, 'Iris-setosa'],\n",
              "       [27, 5.0, 3.4, 1.6, 0.4, 'Iris-setosa'],\n",
              "       [28, 5.2, 3.5, 1.5, 0.2, 'Iris-setosa'],\n",
              "       [29, 5.2, 3.4, 1.4, 0.2, 'Iris-setosa'],\n",
              "       [30, 4.7, 3.2, 1.6, 0.2, 'Iris-setosa'],\n",
              "       [31, 4.8, 3.1, 1.6, 0.2, 'Iris-setosa'],\n",
              "       [32, 5.4, 3.4, 1.5, 0.4, 'Iris-setosa'],\n",
              "       [33, 5.2, 4.1, 1.5, 0.1, 'Iris-setosa'],\n",
              "       [34, 5.5, 4.2, 1.4, 0.2, 'Iris-setosa'],\n",
              "       [35, 4.9, 3.1, 1.5, 0.1, 'Iris-setosa'],\n",
              "       [36, 5.0, 3.2, 1.2, 0.2, 'Iris-setosa'],\n",
              "       [37, 5.5, 3.5, 1.3, 0.2, 'Iris-setosa'],\n",
              "       [38, 4.9, 3.1, 1.5, 0.1, 'Iris-setosa'],\n",
              "       [39, 4.4, 3.0, 1.3, 0.2, 'Iris-setosa'],\n",
              "       [40, 5.1, 3.4, 1.5, 0.2, 'Iris-setosa'],\n",
              "       [41, 5.0, 3.5, 1.3, 0.3, 'Iris-setosa'],\n",
              "       [42, 4.5, 2.3, 1.3, 0.3, 'Iris-setosa'],\n",
              "       [43, 4.4, 3.2, 1.3, 0.2, 'Iris-setosa'],\n",
              "       [44, 5.0, 3.5, 1.6, 0.6, 'Iris-setosa'],\n",
              "       [45, 5.1, 3.8, 1.9, 0.4, 'Iris-setosa'],\n",
              "       [46, 4.8, 3.0, 1.4, 0.3, 'Iris-setosa'],\n",
              "       [47, 5.1, 3.8, 1.6, 0.2, 'Iris-setosa'],\n",
              "       [48, 4.6, 3.2, 1.4, 0.2, 'Iris-setosa'],\n",
              "       [49, 5.3, 3.7, 1.5, 0.2, 'Iris-setosa'],\n",
              "       [50, 5.0, 3.3, 1.4, 0.2, 'Iris-setosa'],\n",
              "       [51, 7.0, 3.2, 4.7, 1.4, 'Iris-versicolor'],\n",
              "       [52, 6.4, 3.2, 4.5, 1.5, 'Iris-versicolor'],\n",
              "       [53, 6.9, 3.1, 4.9, 1.5, 'Iris-versicolor'],\n",
              "       [54, 5.5, 2.3, 4.0, 1.3, 'Iris-versicolor'],\n",
              "       [55, 6.5, 2.8, 4.6, 1.5, 'Iris-versicolor'],\n",
              "       [56, 5.7, 2.8, 4.5, 1.3, 'Iris-versicolor'],\n",
              "       [57, 6.3, 3.3, 4.7, 1.6, 'Iris-versicolor'],\n",
              "       [58, 4.9, 2.4, 3.3, 1.0, 'Iris-versicolor'],\n",
              "       [59, 6.6, 2.9, 4.6, 1.3, 'Iris-versicolor'],\n",
              "       [60, 5.2, 2.7, 3.9, 1.4, 'Iris-versicolor'],\n",
              "       [61, 5.0, 2.0, 3.5, 1.0, 'Iris-versicolor'],\n",
              "       [62, 5.9, 3.0, 4.2, 1.5, 'Iris-versicolor'],\n",
              "       [63, 6.0, 2.2, 4.0, 1.0, 'Iris-versicolor'],\n",
              "       [64, 6.1, 2.9, 4.7, 1.4, 'Iris-versicolor'],\n",
              "       [65, 5.6, 2.9, 3.6, 1.3, 'Iris-versicolor'],\n",
              "       [66, 6.7, 3.1, 4.4, 1.4, 'Iris-versicolor'],\n",
              "       [67, 5.6, 3.0, 4.5, 1.5, 'Iris-versicolor'],\n",
              "       [68, 5.8, 2.7, 4.1, 1.0, 'Iris-versicolor'],\n",
              "       [69, 6.2, 2.2, 4.5, 1.5, 'Iris-versicolor'],\n",
              "       [70, 5.6, 2.5, 3.9, 1.1, 'Iris-versicolor'],\n",
              "       [71, 5.9, 3.2, 4.8, 1.8, 'Iris-versicolor'],\n",
              "       [72, 6.1, 2.8, 4.0, 1.3, 'Iris-versicolor'],\n",
              "       [73, 6.3, 2.5, 4.9, 1.5, 'Iris-versicolor'],\n",
              "       [74, 6.1, 2.8, 4.7, 1.2, 'Iris-versicolor'],\n",
              "       [75, 6.4, 2.9, 4.3, 1.3, 'Iris-versicolor'],\n",
              "       [76, 6.6, 3.0, 4.4, 1.4, 'Iris-versicolor'],\n",
              "       [77, 6.8, 2.8, 4.8, 1.4, 'Iris-versicolor'],\n",
              "       [78, 6.7, 3.0, 5.0, 1.7, 'Iris-versicolor'],\n",
              "       [79, 6.0, 2.9, 4.5, 1.5, 'Iris-versicolor'],\n",
              "       [80, 5.7, 2.6, 3.5, 1.0, 'Iris-versicolor'],\n",
              "       [81, 5.5, 2.4, 3.8, 1.1, 'Iris-versicolor'],\n",
              "       [82, 5.5, 2.4, 3.7, 1.0, 'Iris-versicolor'],\n",
              "       [83, 5.8, 2.7, 3.9, 1.2, 'Iris-versicolor'],\n",
              "       [84, 6.0, 2.7, 5.1, 1.6, 'Iris-versicolor'],\n",
              "       [85, 5.4, 3.0, 4.5, 1.5, 'Iris-versicolor'],\n",
              "       [86, 6.0, 3.4, 4.5, 1.6, 'Iris-versicolor'],\n",
              "       [87, 6.7, 3.1, 4.7, 1.5, 'Iris-versicolor'],\n",
              "       [88, 6.3, 2.3, 4.4, 1.3, 'Iris-versicolor'],\n",
              "       [89, 5.6, 3.0, 4.1, 1.3, 'Iris-versicolor'],\n",
              "       [90, 5.5, 2.5, 4.0, 1.3, 'Iris-versicolor'],\n",
              "       [91, 5.5, 2.6, 4.4, 1.2, 'Iris-versicolor'],\n",
              "       [92, 6.1, 3.0, 4.6, 1.4, 'Iris-versicolor'],\n",
              "       [93, 5.8, 2.6, 4.0, 1.2, 'Iris-versicolor'],\n",
              "       [94, 5.0, 2.3, 3.3, 1.0, 'Iris-versicolor'],\n",
              "       [95, 5.6, 2.7, 4.2, 1.3, 'Iris-versicolor'],\n",
              "       [96, 5.7, 3.0, 4.2, 1.2, 'Iris-versicolor'],\n",
              "       [97, 5.7, 2.9, 4.2, 1.3, 'Iris-versicolor'],\n",
              "       [98, 6.2, 2.9, 4.3, 1.3, 'Iris-versicolor'],\n",
              "       [99, 5.1, 2.5, 3.0, 1.1, 'Iris-versicolor'],\n",
              "       [100, 5.7, 2.8, 4.1, 1.3, 'Iris-versicolor'],\n",
              "       [101, 6.3, 3.3, 6.0, 2.5, 'Iris-virginica'],\n",
              "       [102, 5.8, 2.7, 5.1, 1.9, 'Iris-virginica'],\n",
              "       [103, 7.1, 3.0, 5.9, 2.1, 'Iris-virginica'],\n",
              "       [104, 6.3, 2.9, 5.6, 1.8, 'Iris-virginica'],\n",
              "       [105, 6.5, 3.0, 5.8, 2.2, 'Iris-virginica'],\n",
              "       [106, 7.6, 3.0, 6.6, 2.1, 'Iris-virginica'],\n",
              "       [107, 4.9, 2.5, 4.5, 1.7, 'Iris-virginica'],\n",
              "       [108, 7.3, 2.9, 6.3, 1.8, 'Iris-virginica'],\n",
              "       [109, 6.7, 2.5, 5.8, 1.8, 'Iris-virginica'],\n",
              "       [110, 7.2, 3.6, 6.1, 2.5, 'Iris-virginica'],\n",
              "       [111, 6.5, 3.2, 5.1, 2.0, 'Iris-virginica'],\n",
              "       [112, 6.4, 2.7, 5.3, 1.9, 'Iris-virginica'],\n",
              "       [113, 6.8, 3.0, 5.5, 2.1, 'Iris-virginica'],\n",
              "       [114, 5.7, 2.5, 5.0, 2.0, 'Iris-virginica'],\n",
              "       [115, 5.8, 2.8, 5.1, 2.4, 'Iris-virginica'],\n",
              "       [116, 6.4, 3.2, 5.3, 2.3, 'Iris-virginica'],\n",
              "       [117, 6.5, 3.0, 5.5, 1.8, 'Iris-virginica'],\n",
              "       [118, 7.7, 3.8, 6.7, 2.2, 'Iris-virginica'],\n",
              "       [119, 7.7, 2.6, 6.9, 2.3, 'Iris-virginica'],\n",
              "       [120, 6.0, 2.2, 5.0, 1.5, 'Iris-virginica'],\n",
              "       [121, 6.9, 3.2, 5.7, 2.3, 'Iris-virginica'],\n",
              "       [122, 5.6, 2.8, 4.9, 2.0, 'Iris-virginica'],\n",
              "       [123, 7.7, 2.8, 6.7, 2.0, 'Iris-virginica'],\n",
              "       [124, 6.3, 2.7, 4.9, 1.8, 'Iris-virginica'],\n",
              "       [125, 6.7, 3.3, 5.7, 2.1, 'Iris-virginica'],\n",
              "       [126, 7.2, 3.2, 6.0, 1.8, 'Iris-virginica'],\n",
              "       [127, 6.2, 2.8, 4.8, 1.8, 'Iris-virginica'],\n",
              "       [128, 6.1, 3.0, 4.9, 1.8, 'Iris-virginica'],\n",
              "       [129, 6.4, 2.8, 5.6, 2.1, 'Iris-virginica'],\n",
              "       [130, 7.2, 3.0, 5.8, 1.6, 'Iris-virginica'],\n",
              "       [131, 7.4, 2.8, 6.1, 1.9, 'Iris-virginica'],\n",
              "       [132, 7.9, 3.8, 6.4, 2.0, 'Iris-virginica'],\n",
              "       [133, 6.4, 2.8, 5.6, 2.2, 'Iris-virginica'],\n",
              "       [134, 6.3, 2.8, 5.1, 1.5, 'Iris-virginica'],\n",
              "       [135, 6.1, 2.6, 5.6, 1.4, 'Iris-virginica'],\n",
              "       [136, 7.7, 3.0, 6.1, 2.3, 'Iris-virginica'],\n",
              "       [137, 6.3, 3.4, 5.6, 2.4, 'Iris-virginica'],\n",
              "       [138, 6.4, 3.1, 5.5, 1.8, 'Iris-virginica'],\n",
              "       [139, 6.0, 3.0, 4.8, 1.8, 'Iris-virginica'],\n",
              "       [140, 6.9, 3.1, 5.4, 2.1, 'Iris-virginica'],\n",
              "       [141, 6.7, 3.1, 5.6, 2.4, 'Iris-virginica'],\n",
              "       [142, 6.9, 3.1, 5.1, 2.3, 'Iris-virginica'],\n",
              "       [143, 5.8, 2.7, 5.1, 1.9, 'Iris-virginica'],\n",
              "       [144, 6.8, 3.2, 5.9, 2.3, 'Iris-virginica'],\n",
              "       [145, 6.7, 3.3, 5.7, 2.5, 'Iris-virginica'],\n",
              "       [146, 6.7, 3.0, 5.2, 2.3, 'Iris-virginica'],\n",
              "       [147, 6.3, 2.5, 5.0, 1.9, 'Iris-virginica'],\n",
              "       [148, 6.5, 3.0, 5.2, 2.0, 'Iris-virginica'],\n",
              "       [149, 6.2, 3.4, 5.4, 2.3, 'Iris-virginica'],\n",
              "       [150, 5.9, 3.0, 5.1, 1.8, 'Iris-virginica']], dtype=object)"
            ]
          },
          "metadata": {},
          "execution_count": 28
        }
      ]
    },
    {
      "cell_type": "code",
      "source": [
        "x_variable = ['SepalLengthCm', 'SepalWidthCm', 'PetalLengthCm', 'PetalWidthCm'] #input, Multiple input\n",
        "y_variable = ['Species'] #output\n",
        "\n",
        "#reshape variable\n",
        "x = iris[x_variable].values.reshape(-1,4) # 1st value is -1, next value is the length of x_variable\n",
        "y = iris[y_variable].values.reshape(-1,1)\n",
        "print(x.shape)\n",
        "print(y.shape)"
      ],
      "metadata": {
        "colab": {
          "base_uri": "https://localhost:8080/"
        },
        "id": "FwjUB5SdD7pd",
        "outputId": "1b5ab59c-a590-4091-e68b-004e6e051b97"
      },
      "execution_count": 29,
      "outputs": [
        {
          "output_type": "stream",
          "name": "stdout",
          "text": [
            "(150, 4)\n",
            "(150, 1)\n"
          ]
        }
      ]
    },
    {
      "cell_type": "code",
      "source": [
        "#split the dataset\n",
        "x_train, x_test,  y_train, y_test = train_test_split(x, y , test_size = 0.2, random_state=1)\n",
        "print(x_train.shape)\n",
        "print(x_test.shape)"
      ],
      "metadata": {
        "colab": {
          "base_uri": "https://localhost:8080/"
        },
        "id": "iAAVB2ZVEgGW",
        "outputId": "ba5d5032-b97e-4ec7-ada9-a9c604313bf1"
      },
      "execution_count": 30,
      "outputs": [
        {
          "output_type": "stream",
          "name": "stdout",
          "text": [
            "(120, 4)\n",
            "(30, 4)\n"
          ]
        }
      ]
    },
    {
      "cell_type": "code",
      "source": [
        "from sklearn.neighbors import KNeighborsClassifier\n",
        "knn_model = KNeighborsClassifier (n_neighbors=5,n_jobs=-1).fit(x_train,y_train)"
      ],
      "metadata": {
        "colab": {
          "base_uri": "https://localhost:8080/"
        },
        "id": "4JhbZh6dE4aP",
        "outputId": "32f862b4-4e6e-4e64-8833-22529801cd3e"
      },
      "execution_count": 31,
      "outputs": [
        {
          "output_type": "stream",
          "name": "stderr",
          "text": [
            "/usr/local/lib/python3.7/dist-packages/sklearn/neighbors/_classification.py:198: DataConversionWarning: A column-vector y was passed when a 1d array was expected. Please change the shape of y to (n_samples,), for example using ravel().\n",
            "  return self._fit(X, y)\n"
          ]
        }
      ]
    },
    {
      "cell_type": "code",
      "source": [
        "x_test.shape"
      ],
      "metadata": {
        "colab": {
          "base_uri": "https://localhost:8080/"
        },
        "id": "kdYTQK8DFYn3",
        "outputId": "05e710e5-fdd3-4b1f-87fd-b5af9e974a4e"
      },
      "execution_count": 32,
      "outputs": [
        {
          "output_type": "execute_result",
          "data": {
            "text/plain": [
              "(30, 4)"
            ]
          },
          "metadata": {},
          "execution_count": 32
        }
      ]
    },
    {
      "cell_type": "code",
      "source": [
        "y_predict = knn_model.predict (x_test)\n",
        "print(y_predict)"
      ],
      "metadata": {
        "colab": {
          "base_uri": "https://localhost:8080/"
        },
        "id": "-D9yy7xfFdSD",
        "outputId": "9322792c-d47d-41a7-f4be-484b9ddeeed0"
      },
      "execution_count": 33,
      "outputs": [
        {
          "output_type": "stream",
          "name": "stdout",
          "text": [
            "['Iris-setosa' 'Iris-versicolor' 'Iris-versicolor' 'Iris-setosa'\n",
            " 'Iris-virginica' 'Iris-versicolor' 'Iris-virginica' 'Iris-setosa'\n",
            " 'Iris-setosa' 'Iris-virginica' 'Iris-versicolor' 'Iris-setosa'\n",
            " 'Iris-virginica' 'Iris-versicolor' 'Iris-versicolor' 'Iris-setosa'\n",
            " 'Iris-versicolor' 'Iris-versicolor' 'Iris-setosa' 'Iris-setosa'\n",
            " 'Iris-versicolor' 'Iris-versicolor' 'Iris-versicolor' 'Iris-setosa'\n",
            " 'Iris-virginica' 'Iris-versicolor' 'Iris-setosa' 'Iris-setosa'\n",
            " 'Iris-versicolor' 'Iris-virginica']\n"
          ]
        }
      ]
    },
    {
      "cell_type": "code",
      "source": [
        "#dataframe of predict and actual values"
      ],
      "metadata": {
        "id": "JXXl6l-EFdKj"
      },
      "execution_count": null,
      "outputs": []
    },
    {
      "cell_type": "code",
      "source": [
        "#1. Create a table between actual and predict\n",
        "from tabulate import tabulate\n",
        "li = y_test.reshape(-1)\n",
        "print(li)\n",
        "l = list(zip(li, y_predict))\n",
        "lists = [list(x) for x in l]\n",
        "pred_y_df = pd.DataFrame({'Actual Value' : lists,'Predicted Value' : y_predict})\n",
        "pred_y_df[0:25]"
      ],
      "metadata": {
        "colab": {
          "base_uri": "https://localhost:8080/",
          "height": 972
        },
        "id": "3U3LepjYRRx2",
        "outputId": "8c6c1dd0-cb7c-4476-9b99-41e3cd618aef"
      },
      "execution_count": 51,
      "outputs": [
        {
          "output_type": "stream",
          "name": "stdout",
          "text": [
            "['Iris-setosa' 'Iris-versicolor' 'Iris-versicolor' 'Iris-setosa'\n",
            " 'Iris-virginica' 'Iris-versicolor' 'Iris-virginica' 'Iris-setosa'\n",
            " 'Iris-setosa' 'Iris-virginica' 'Iris-versicolor' 'Iris-setosa'\n",
            " 'Iris-virginica' 'Iris-versicolor' 'Iris-versicolor' 'Iris-setosa'\n",
            " 'Iris-versicolor' 'Iris-versicolor' 'Iris-setosa' 'Iris-setosa'\n",
            " 'Iris-versicolor' 'Iris-versicolor' 'Iris-versicolor' 'Iris-setosa'\n",
            " 'Iris-virginica' 'Iris-versicolor' 'Iris-setosa' 'Iris-setosa'\n",
            " 'Iris-versicolor' 'Iris-virginica']\n"
          ]
        },
        {
          "output_type": "execute_result",
          "data": {
            "text/plain": [
              "                          Actual Value  Predicted Value\n",
              "0           [Iris-setosa, Iris-setosa]      Iris-setosa\n",
              "1   [Iris-versicolor, Iris-versicolor]  Iris-versicolor\n",
              "2   [Iris-versicolor, Iris-versicolor]  Iris-versicolor\n",
              "3           [Iris-setosa, Iris-setosa]      Iris-setosa\n",
              "4     [Iris-virginica, Iris-virginica]   Iris-virginica\n",
              "5   [Iris-versicolor, Iris-versicolor]  Iris-versicolor\n",
              "6     [Iris-virginica, Iris-virginica]   Iris-virginica\n",
              "7           [Iris-setosa, Iris-setosa]      Iris-setosa\n",
              "8           [Iris-setosa, Iris-setosa]      Iris-setosa\n",
              "9     [Iris-virginica, Iris-virginica]   Iris-virginica\n",
              "10  [Iris-versicolor, Iris-versicolor]  Iris-versicolor\n",
              "11          [Iris-setosa, Iris-setosa]      Iris-setosa\n",
              "12    [Iris-virginica, Iris-virginica]   Iris-virginica\n",
              "13  [Iris-versicolor, Iris-versicolor]  Iris-versicolor\n",
              "14  [Iris-versicolor, Iris-versicolor]  Iris-versicolor\n",
              "15          [Iris-setosa, Iris-setosa]      Iris-setosa\n",
              "16  [Iris-versicolor, Iris-versicolor]  Iris-versicolor\n",
              "17  [Iris-versicolor, Iris-versicolor]  Iris-versicolor\n",
              "18          [Iris-setosa, Iris-setosa]      Iris-setosa\n",
              "19          [Iris-setosa, Iris-setosa]      Iris-setosa\n",
              "20  [Iris-versicolor, Iris-versicolor]  Iris-versicolor\n",
              "21  [Iris-versicolor, Iris-versicolor]  Iris-versicolor\n",
              "22  [Iris-versicolor, Iris-versicolor]  Iris-versicolor\n",
              "23          [Iris-setosa, Iris-setosa]      Iris-setosa\n",
              "24    [Iris-virginica, Iris-virginica]   Iris-virginica"
            ],
            "text/html": [
              "\n",
              "  <div id=\"df-4266ab85-9c6a-472e-bafd-5d1895d79380\">\n",
              "    <div class=\"colab-df-container\">\n",
              "      <div>\n",
              "<style scoped>\n",
              "    .dataframe tbody tr th:only-of-type {\n",
              "        vertical-align: middle;\n",
              "    }\n",
              "\n",
              "    .dataframe tbody tr th {\n",
              "        vertical-align: top;\n",
              "    }\n",
              "\n",
              "    .dataframe thead th {\n",
              "        text-align: right;\n",
              "    }\n",
              "</style>\n",
              "<table border=\"1\" class=\"dataframe\">\n",
              "  <thead>\n",
              "    <tr style=\"text-align: right;\">\n",
              "      <th></th>\n",
              "      <th>Actual Value</th>\n",
              "      <th>Predicted Value</th>\n",
              "    </tr>\n",
              "  </thead>\n",
              "  <tbody>\n",
              "    <tr>\n",
              "      <th>0</th>\n",
              "      <td>[Iris-setosa, Iris-setosa]</td>\n",
              "      <td>Iris-setosa</td>\n",
              "    </tr>\n",
              "    <tr>\n",
              "      <th>1</th>\n",
              "      <td>[Iris-versicolor, Iris-versicolor]</td>\n",
              "      <td>Iris-versicolor</td>\n",
              "    </tr>\n",
              "    <tr>\n",
              "      <th>2</th>\n",
              "      <td>[Iris-versicolor, Iris-versicolor]</td>\n",
              "      <td>Iris-versicolor</td>\n",
              "    </tr>\n",
              "    <tr>\n",
              "      <th>3</th>\n",
              "      <td>[Iris-setosa, Iris-setosa]</td>\n",
              "      <td>Iris-setosa</td>\n",
              "    </tr>\n",
              "    <tr>\n",
              "      <th>4</th>\n",
              "      <td>[Iris-virginica, Iris-virginica]</td>\n",
              "      <td>Iris-virginica</td>\n",
              "    </tr>\n",
              "    <tr>\n",
              "      <th>5</th>\n",
              "      <td>[Iris-versicolor, Iris-versicolor]</td>\n",
              "      <td>Iris-versicolor</td>\n",
              "    </tr>\n",
              "    <tr>\n",
              "      <th>6</th>\n",
              "      <td>[Iris-virginica, Iris-virginica]</td>\n",
              "      <td>Iris-virginica</td>\n",
              "    </tr>\n",
              "    <tr>\n",
              "      <th>7</th>\n",
              "      <td>[Iris-setosa, Iris-setosa]</td>\n",
              "      <td>Iris-setosa</td>\n",
              "    </tr>\n",
              "    <tr>\n",
              "      <th>8</th>\n",
              "      <td>[Iris-setosa, Iris-setosa]</td>\n",
              "      <td>Iris-setosa</td>\n",
              "    </tr>\n",
              "    <tr>\n",
              "      <th>9</th>\n",
              "      <td>[Iris-virginica, Iris-virginica]</td>\n",
              "      <td>Iris-virginica</td>\n",
              "    </tr>\n",
              "    <tr>\n",
              "      <th>10</th>\n",
              "      <td>[Iris-versicolor, Iris-versicolor]</td>\n",
              "      <td>Iris-versicolor</td>\n",
              "    </tr>\n",
              "    <tr>\n",
              "      <th>11</th>\n",
              "      <td>[Iris-setosa, Iris-setosa]</td>\n",
              "      <td>Iris-setosa</td>\n",
              "    </tr>\n",
              "    <tr>\n",
              "      <th>12</th>\n",
              "      <td>[Iris-virginica, Iris-virginica]</td>\n",
              "      <td>Iris-virginica</td>\n",
              "    </tr>\n",
              "    <tr>\n",
              "      <th>13</th>\n",
              "      <td>[Iris-versicolor, Iris-versicolor]</td>\n",
              "      <td>Iris-versicolor</td>\n",
              "    </tr>\n",
              "    <tr>\n",
              "      <th>14</th>\n",
              "      <td>[Iris-versicolor, Iris-versicolor]</td>\n",
              "      <td>Iris-versicolor</td>\n",
              "    </tr>\n",
              "    <tr>\n",
              "      <th>15</th>\n",
              "      <td>[Iris-setosa, Iris-setosa]</td>\n",
              "      <td>Iris-setosa</td>\n",
              "    </tr>\n",
              "    <tr>\n",
              "      <th>16</th>\n",
              "      <td>[Iris-versicolor, Iris-versicolor]</td>\n",
              "      <td>Iris-versicolor</td>\n",
              "    </tr>\n",
              "    <tr>\n",
              "      <th>17</th>\n",
              "      <td>[Iris-versicolor, Iris-versicolor]</td>\n",
              "      <td>Iris-versicolor</td>\n",
              "    </tr>\n",
              "    <tr>\n",
              "      <th>18</th>\n",
              "      <td>[Iris-setosa, Iris-setosa]</td>\n",
              "      <td>Iris-setosa</td>\n",
              "    </tr>\n",
              "    <tr>\n",
              "      <th>19</th>\n",
              "      <td>[Iris-setosa, Iris-setosa]</td>\n",
              "      <td>Iris-setosa</td>\n",
              "    </tr>\n",
              "    <tr>\n",
              "      <th>20</th>\n",
              "      <td>[Iris-versicolor, Iris-versicolor]</td>\n",
              "      <td>Iris-versicolor</td>\n",
              "    </tr>\n",
              "    <tr>\n",
              "      <th>21</th>\n",
              "      <td>[Iris-versicolor, Iris-versicolor]</td>\n",
              "      <td>Iris-versicolor</td>\n",
              "    </tr>\n",
              "    <tr>\n",
              "      <th>22</th>\n",
              "      <td>[Iris-versicolor, Iris-versicolor]</td>\n",
              "      <td>Iris-versicolor</td>\n",
              "    </tr>\n",
              "    <tr>\n",
              "      <th>23</th>\n",
              "      <td>[Iris-setosa, Iris-setosa]</td>\n",
              "      <td>Iris-setosa</td>\n",
              "    </tr>\n",
              "    <tr>\n",
              "      <th>24</th>\n",
              "      <td>[Iris-virginica, Iris-virginica]</td>\n",
              "      <td>Iris-virginica</td>\n",
              "    </tr>\n",
              "  </tbody>\n",
              "</table>\n",
              "</div>\n",
              "      <button class=\"colab-df-convert\" onclick=\"convertToInteractive('df-4266ab85-9c6a-472e-bafd-5d1895d79380')\"\n",
              "              title=\"Convert this dataframe to an interactive table.\"\n",
              "              style=\"display:none;\">\n",
              "        \n",
              "  <svg xmlns=\"http://www.w3.org/2000/svg\" height=\"24px\"viewBox=\"0 0 24 24\"\n",
              "       width=\"24px\">\n",
              "    <path d=\"M0 0h24v24H0V0z\" fill=\"none\"/>\n",
              "    <path d=\"M18.56 5.44l.94 2.06.94-2.06 2.06-.94-2.06-.94-.94-2.06-.94 2.06-2.06.94zm-11 1L8.5 8.5l.94-2.06 2.06-.94-2.06-.94L8.5 2.5l-.94 2.06-2.06.94zm10 10l.94 2.06.94-2.06 2.06-.94-2.06-.94-.94-2.06-.94 2.06-2.06.94z\"/><path d=\"M17.41 7.96l-1.37-1.37c-.4-.4-.92-.59-1.43-.59-.52 0-1.04.2-1.43.59L10.3 9.45l-7.72 7.72c-.78.78-.78 2.05 0 2.83L4 21.41c.39.39.9.59 1.41.59.51 0 1.02-.2 1.41-.59l7.78-7.78 2.81-2.81c.8-.78.8-2.07 0-2.86zM5.41 20L4 18.59l7.72-7.72 1.47 1.35L5.41 20z\"/>\n",
              "  </svg>\n",
              "      </button>\n",
              "      \n",
              "  <style>\n",
              "    .colab-df-container {\n",
              "      display:flex;\n",
              "      flex-wrap:wrap;\n",
              "      gap: 12px;\n",
              "    }\n",
              "\n",
              "    .colab-df-convert {\n",
              "      background-color: #E8F0FE;\n",
              "      border: none;\n",
              "      border-radius: 50%;\n",
              "      cursor: pointer;\n",
              "      display: none;\n",
              "      fill: #1967D2;\n",
              "      height: 32px;\n",
              "      padding: 0 0 0 0;\n",
              "      width: 32px;\n",
              "    }\n",
              "\n",
              "    .colab-df-convert:hover {\n",
              "      background-color: #E2EBFA;\n",
              "      box-shadow: 0px 1px 2px rgba(60, 64, 67, 0.3), 0px 1px 3px 1px rgba(60, 64, 67, 0.15);\n",
              "      fill: #174EA6;\n",
              "    }\n",
              "\n",
              "    [theme=dark] .colab-df-convert {\n",
              "      background-color: #3B4455;\n",
              "      fill: #D2E3FC;\n",
              "    }\n",
              "\n",
              "    [theme=dark] .colab-df-convert:hover {\n",
              "      background-color: #434B5C;\n",
              "      box-shadow: 0px 1px 3px 1px rgba(0, 0, 0, 0.15);\n",
              "      filter: drop-shadow(0px 1px 2px rgba(0, 0, 0, 0.3));\n",
              "      fill: #FFFFFF;\n",
              "    }\n",
              "  </style>\n",
              "\n",
              "      <script>\n",
              "        const buttonEl =\n",
              "          document.querySelector('#df-4266ab85-9c6a-472e-bafd-5d1895d79380 button.colab-df-convert');\n",
              "        buttonEl.style.display =\n",
              "          google.colab.kernel.accessAllowed ? 'block' : 'none';\n",
              "\n",
              "        async function convertToInteractive(key) {\n",
              "          const element = document.querySelector('#df-4266ab85-9c6a-472e-bafd-5d1895d79380');\n",
              "          const dataTable =\n",
              "            await google.colab.kernel.invokeFunction('convertToInteractive',\n",
              "                                                     [key], {});\n",
              "          if (!dataTable) return;\n",
              "\n",
              "          const docLinkHtml = 'Like what you see? Visit the ' +\n",
              "            '<a target=\"_blank\" href=https://colab.research.google.com/notebooks/data_table.ipynb>data table notebook</a>'\n",
              "            + ' to learn more about interactive tables.';\n",
              "          element.innerHTML = '';\n",
              "          dataTable['output_type'] = 'display_data';\n",
              "          await google.colab.output.renderOutput(dataTable, element);\n",
              "          const docLink = document.createElement('div');\n",
              "          docLink.innerHTML = docLinkHtml;\n",
              "          element.appendChild(docLink);\n",
              "        }\n",
              "      </script>\n",
              "    </div>\n",
              "  </div>\n",
              "  "
            ]
          },
          "metadata": {},
          "execution_count": 51
        }
      ]
    },
    {
      "cell_type": "code",
      "source": [
        "knn_model.predict_proba (x_test)"
      ],
      "metadata": {
        "colab": {
          "base_uri": "https://localhost:8080/"
        },
        "id": "JVinF9N5FoGa",
        "outputId": "556a997d-608b-43c4-d438-df4213a77e2e"
      },
      "execution_count": null,
      "outputs": [
        {
          "output_type": "execute_result",
          "data": {
            "text/plain": [
              "array([[1. , 0. , 0. ],\n",
              "       [0. , 1. , 0. ],\n",
              "       [0. , 1. , 0. ],\n",
              "       [1. , 0. , 0. ],\n",
              "       [0. , 0. , 1. ],\n",
              "       [0. , 0.8, 0.2],\n",
              "       [0. , 0. , 1. ],\n",
              "       [1. , 0. , 0. ],\n",
              "       [1. , 0. , 0. ],\n",
              "       [0. , 0. , 1. ],\n",
              "       [0. , 1. , 0. ],\n",
              "       [1. , 0. , 0. ],\n",
              "       [0. , 0. , 1. ],\n",
              "       [0. , 1. , 0. ],\n",
              "       [0. , 1. , 0. ],\n",
              "       [1. , 0. , 0. ],\n",
              "       [0. , 1. , 0. ],\n",
              "       [0. , 1. , 0. ],\n",
              "       [1. , 0. , 0. ],\n",
              "       [1. , 0. , 0. ],\n",
              "       [0. , 1. , 0. ],\n",
              "       [0. , 1. , 0. ],\n",
              "       [0. , 0.6, 0.4],\n",
              "       [1. , 0. , 0. ],\n",
              "       [0. , 0. , 1. ],\n",
              "       [0. , 1. , 0. ],\n",
              "       [1. , 0. , 0. ],\n",
              "       [1. , 0. , 0. ],\n",
              "       [0. , 1. , 0. ],\n",
              "       [0. , 0.4, 0.6]])"
            ]
          },
          "metadata": {},
          "execution_count": 13
        }
      ]
    },
    {
      "cell_type": "code",
      "source": [
        "input = np.array([7.7,2.6,6.9,2.3])\n",
        "input = input.reshape(-1,4)"
      ],
      "metadata": {
        "id": "TN3YWhIPFtqW"
      },
      "execution_count": null,
      "outputs": []
    },
    {
      "cell_type": "code",
      "source": [
        "y_predict1 = knn_model.predict(input)\n",
        "print(y_predict)"
      ],
      "metadata": {
        "colab": {
          "base_uri": "https://localhost:8080/"
        },
        "id": "xHt972TDF6UR",
        "outputId": "2509f7e9-7489-4217-cdbd-fea840200d50"
      },
      "execution_count": null,
      "outputs": [
        {
          "output_type": "stream",
          "name": "stdout",
          "text": [
            "['Iris-setosa' 'Iris-versicolor' 'Iris-versicolor' 'Iris-setosa'\n",
            " 'Iris-virginica' 'Iris-versicolor' 'Iris-virginica' 'Iris-setosa'\n",
            " 'Iris-setosa' 'Iris-virginica' 'Iris-versicolor' 'Iris-setosa'\n",
            " 'Iris-virginica' 'Iris-versicolor' 'Iris-versicolor' 'Iris-setosa'\n",
            " 'Iris-versicolor' 'Iris-versicolor' 'Iris-setosa' 'Iris-setosa'\n",
            " 'Iris-versicolor' 'Iris-versicolor' 'Iris-versicolor' 'Iris-setosa'\n",
            " 'Iris-virginica' 'Iris-versicolor' 'Iris-setosa' 'Iris-setosa'\n",
            " 'Iris-versicolor' 'Iris-virginica']\n"
          ]
        }
      ]
    },
    {
      "cell_type": "code",
      "source": [
        "knn_model.predict_proba(input)"
      ],
      "metadata": {
        "colab": {
          "base_uri": "https://localhost:8080/"
        },
        "id": "W_B9PMQrGBuy",
        "outputId": "ad9066a6-7aef-4395-cec6-4cea51e36038"
      },
      "execution_count": null,
      "outputs": [
        {
          "output_type": "execute_result",
          "data": {
            "text/plain": [
              "array([[0., 0., 1.]])"
            ]
          },
          "metadata": {},
          "execution_count": 18
        }
      ]
    },
    {
      "cell_type": "code",
      "source": [
        "#accuracy of the test dataset\n",
        "from sklearn.metrics import accuracy_score\n",
        "accuracy_result = accuracy_score (y_test, y_predict)\n",
        "print (accuracy_result)"
      ],
      "metadata": {
        "colab": {
          "base_uri": "https://localhost:8080/"
        },
        "id": "4cyDmhVLGGt4",
        "outputId": "b4e097a4-b387-46c9-999d-ea1dca566501"
      },
      "execution_count": null,
      "outputs": [
        {
          "output_type": "stream",
          "name": "stdout",
          "text": [
            "1.0\n"
          ]
        }
      ]
    },
    {
      "cell_type": "markdown",
      "source": [
        "\n",
        "1.  Lib\n",
        "1.  Dataset\n",
        "2.  Preprocessing 3.1.X_variables, y_variables 3.2.Reshape\n",
        "1.  Model build\n",
        "1. Predict the result (whole dataset, single value)\n",
        "2. Probability\n",
        "2. Evaluation metrics(Accuracy) Accuracy score(single)\n",
        "\n",
        "\n",
        "\n",
        "\n",
        "\n",
        "\n",
        "\n",
        "\n",
        "\n"
      ],
      "metadata": {
        "id": "V5i4ZHCkGZwi"
      }
    },
    {
      "cell_type": "markdown",
      "source": [
        "Task\n",
        "\n",
        "\n",
        "1. Create a table between actual and predict\n",
        "2. Check the formula of accuracy score\n",
        "1.find the procedure to get the optimal k-value\n",
        "\n",
        "\n",
        "\n",
        "\n",
        "\n"
      ],
      "metadata": {
        "id": "nSmRECvcGy5g"
      }
    },
    {
      "cell_type": "markdown",
      "source": [
        "# 2. Check the formular of accuracy score\n",
        "#Accuracy = Number of Correct Predictions / Total Number of Prediction"
      ],
      "metadata": {
        "id": "Ytfj1VKBb_3r"
      }
    },
    {
      "cell_type": "markdown",
      "source": [
        "#3.find the procedure to get the optimal k-value\n",
        "1.   There are no pre-defined statistical methods to find the most favorable value of K.\n",
        "2.   Initialize a random K value and start computing.\n",
        "1.   Choosing a small value of K leads to unstable decision boundaries.\n",
        "2.   The substantial K value is better for classification as it leads to smoothening the decision boundaries.\n",
        "1.   Derive a plot between error rate and K denoting values in a defined range.\n",
        "2.   hen choose the K value as having a minimum error rate.\n"
      ],
      "metadata": {
        "id": "4SZP8Wj1bDnK"
      }
    }
  ]
}